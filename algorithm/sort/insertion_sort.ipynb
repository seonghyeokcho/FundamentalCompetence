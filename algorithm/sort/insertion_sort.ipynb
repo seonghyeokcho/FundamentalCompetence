{
 "cells": [
  {
   "cell_type": "markdown",
   "metadata": {},
   "source": [
    "#### insertion sort(삽입 정렬)\n",
    "- Time Complexity: O(n^2)\n",
    "    - for python -> 0.2 O(n^2) µs, for C -> 0.01 O(n^2) µs"
   ]
  },
  {
   "cell_type": "code",
   "execution_count": null,
   "metadata": {},
   "outputs": [
    {
     "name": "stdout",
     "output_type": "stream",
     "text": [
      "1.09 ms ± 8.15 µs per loop (mean ± std. dev. of 7 runs, 1 loop each)\n"
     ]
    }
   ],
   "source": [
    "# 직접 구현해본 삽입 정렬 알고리즘\n",
    "def insertion_sort(L):\n",
    "    for i in range(1, len(L)):\n",
    "        if L[i-1] > L[i]:\n",
    "            j = i\n",
    "            temp = L[i]\n",
    "            while L[j-1] > temp and j > 0:\n",
    "                L[j] = L[j-1]\n",
    "                j -= 1\n",
    "            L[j] = temp\n",
    "    return L\n",
    "\n",
    "# L = [5,2,6,3,1,4,4,7,5,6,2,1,7,5,7,9,7,5,4,3]\n",
    "# insertion_sort(L)\n",
    "L = list(range(4000, 0, -1))\n",
    "%timeit insertion_sort(L)"
   ]
  },
  {
   "cell_type": "code",
   "execution_count": null,
   "metadata": {},
   "outputs": [],
   "source": []
  }
 ],
 "metadata": {
  "kernelspec": {
   "display_name": "base",
   "language": "python",
   "name": "python3"
  },
  "language_info": {
   "codemirror_mode": {
    "name": "ipython",
    "version": 3
   },
   "file_extension": ".py",
   "mimetype": "text/x-python",
   "name": "python",
   "nbconvert_exporter": "python",
   "pygments_lexer": "ipython3",
   "version": "3.10.13"
  },
  "orig_nbformat": 4
 },
 "nbformat": 4,
 "nbformat_minor": 2
}
