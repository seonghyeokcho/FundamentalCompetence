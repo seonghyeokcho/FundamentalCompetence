{
 "cells": [
  {
   "cell_type": "markdown",
   "metadata": {},
   "source": [
    "### Counting Sort (카운팅 정렬)\n",
    "\n",
    "#### ✅ 장점\n",
    "- O(n + u) 시간 복잡도를 가지며, 값의 범위 u가 n에 비해 작을 때 매우 빠름.\n",
    "- 안정 정렬(Stable Sort)로, 같은 값을 가지는 원소들이 입력 순서를 유지.\n",
    "- 비교 기반 정렬이 아니기 때문에 비교 연산이 필요 없음.\n",
    "    \n",
    "#### ❌ 단점\n",
    "- 메모리 사용량이 많음 (O(u)) → 값의 범위 u가 크면 매우 비효율적.\n",
    "- 실수(float)나 음수는 정렬 불가 (하지만 변형을 통해 해결 가능).\n",
    "- 정렬할 데이터의 범위가 크면 퀵 정렬(Quick Sort)이나 병합 정렬(Merge Sort)이 더 유리함."
   ]
  },
  {
   "cell_type": "code",
   "execution_count": 1,
   "metadata": {},
   "outputs": [
    {
     "name": "stdout",
     "output_type": "stream",
     "text": [
      "[5, 2, 6, 3, 1, 4, 4, 7, 5, 6, 2, 1, 7, 5, 7, 9, 7, 5, 4, 3]\n",
      "[1, 1, 2, 2, 3, 3, 4, 4, 4, 5, 5, 5, 5, 6, 6, 7, 7, 7, 7, 9]\n"
     ]
    }
   ],
   "source": [
    "def counting_sort(A):           ## 체인 리스트 활용\n",
    "    u = 1 + max(A)              # O(n): 최댓값 찾기\n",
    "    D = [[] for _ in range(u)]  # O(u): 빈 리스트 배열 초기화\n",
    "    for x in A:                 # O(n): 각 숫자를 해당 인덱스 리스트에 추가\n",
    "        D[x].append(x)\n",
    "    i = 0\n",
    "    for chain in D:             # O(u): 리스트 배열 D를 순회하며 정렬된 값 저장(재할당)\n",
    "        for x in chain:\n",
    "            A[i] = x\n",
    "            i += 1\n",
    "    return A\n",
    "\n",
    "A = [5,2,6,3,1,4,4,7,5,6,2,1,7,5,7,9,7,5,4,3]\n",
    "print(A)\n",
    "print(counting_sort(A))"
   ]
  },
  {
   "cell_type": "code",
   "execution_count": 2,
   "metadata": {},
   "outputs": [
    {
     "name": "stdout",
     "output_type": "stream",
     "text": [
      "[5, 2, 6, 3, 1, 4, 4, 7, 5, 6, 2, 1, 7, 5, 7, 9, 7, 5, 4, 3]\n",
      "[1, 1, 2, 2, 3, 3, 4, 4, 4, 5, 5, 5, 5, 6, 6, 7, 7, 7, 7, 9]\n"
     ]
    }
   ],
   "source": [
    "def counting_sort(A):           ## 누적 합 활용\n",
    "    u = 1 + max(A)              # O(n): 최댓값 찾기\n",
    "    D = [0] * u                 # O(u): 카운트 배열 초기화\n",
    "    for x in A:                 # O(n): 숫자 개수 세기\n",
    "        D[x] += 1\n",
    "    for k in range(1, u):       # O(u): 누적 합 계산\n",
    "        D[k] += D[k-1]\n",
    "    for x in list(reversed(A)): # O(n): 원소를 정렬된 위치에 재배치\n",
    "        A[D[x]-1] = x\n",
    "        D[x] -= 1\n",
    "    return A\n",
    "\n",
    "A = [5,2,6,3,1,4,4,7,5,6,2,1,7,5,7,9,7,5,4,3]\n",
    "print(A)\n",
    "print(counting_sort(A))"
   ]
  },
  {
   "cell_type": "markdown",
   "metadata": {},
   "source": [
    "#### ✅ 체인 리스트를 사용한 카운팅 정렬의 장점\n",
    "\n",
    "1. 안정적인 정렬(Stable Sorting)\n",
    "    - 같은 키를 가진 요소들은 리스트(큐 형태) 에 저장되므로 입력 순서가 유지됩니다.\n",
    "    - 따라서, 다중 키를 기반으로 정렬해야 하는 데이터베이스 레코드 정렬과 같은 경우에 유용합니다.\n",
    "2. 중복 키를 효율적으로 처리\n",
    "    - 동일한 키를 가진 여러 요소가 있을 경우, 해당 키에 해당하는 리스트에 단순히 추가하면 됩니다.\n",
    "    - 이를 통해 불필요한 교환(swap)이나 재정렬 없이 효율적으로 중복을 처리할 수 있습니다.\n",
    "3. 쉬운 구현(Easy Implementation)\n",
    "    - 체인 리스트 방식은 다음과 같은 간단한 논리를 따릅니다.\n",
    "    - 각 키에 해당하는 리스트에 요소를 삽입\n",
    "    - 리스트에서 요소를 순서대로 읽어와 정렬된 배열을 생성\n",
    "    - 이 방식은 직관적이고 디버깅하기 쉬운 구조를 가집니다.\n",
    "4. 작은 키 범위에서 효과적(Good for Small Ranges of Keys)\n",
    "    - 키 범위(u)가 입력 크기(n)에 비해 작을 경우, 체인 리스트 방식은 메모리 효율적이고 빠르게 동작합니다.\n",
    "\n",
    "\n",
    "#### ❌ 체인 리스트를 사용한 카운팅 정렬의 단점\n",
    "\n",
    "1. 큰 키 범위에서는 높은 메모리 사용량(High Memory Overhead for Large Key Ranges)\n",
    "    - 알고리즘은 크기 u의 리스트 배열(D = [[] for i in range(u)])을 생성합니다.\n",
    "    - 하지만 사용되지 않는 키가 많을 경우, 불필요한 메모리 낭비가 발생합니다.\n",
    "    - 만약 u가 n보다 훨씬 크다면, 메모리 사용량이 비효율적일 수 있습니다.\n",
    "2. 추가적인 리스트 연산으로 인한 오버헤드(Extra List Operations Increase Overhead)\n",
    "    - 리스트의 리스트를 사용하면 각 서브리스트(sublist)에 대한 추가적인 메모리 할당이 필요합니다.\n",
    "    - 리스트에 요소를 삽입하는 작업은 O(1)이지만, 별도의 리스트를 관리하는 데 따른 메모리 단편화(fragmentation)로 인해 성능 저하가 발생할 가능성이 있음.\n",
    "3. 배열 기반 카운팅 정렬보다 느릴 수 있음(Slower Than Array-Based Counting Sort in Some Cases)\n",
    "    - 카운팅 정렬의 다른 구현 방식(누적 합을 이용하는 방식)은 하나의 배열만 사용하여 정렬을 수행합니다.\n",
    "    - 반면, 체인 리스트 방식은 각 요소를 별도의 리스트에 저장해야 하므로 메모리 접근 속도가 느려질 수 있음.\n",
    "4. 캐시 친화적이지 않음(Less Cache-Friendly)\n",
    "    - 체인 리스트에 저장된 요소들은 메모리 상에서 분산되어 있음 → 캐시(Locality of Reference) 효율성이 떨어짐.\n",
    "    - 반면, 배열 기반 카운팅 정렬은 연속적인 메모리 공간을 활용하므로 CPU 캐시 효율성이 높음."
   ]
  },
  {
   "cell_type": "markdown",
   "metadata": {},
   "source": [
    "#### 📌 체인 리스트 방식이 적합한 경우\n",
    "\n",
    "##### ✅ 다음과 같은 경우에 체인 리스트 방식을 사용하는 것이 적절합니다.\n",
    "\n",
    "- 키의 개수(u)가 너무 크지 않은 경우\n",
    "- 정렬의 안정성(Stable Sort)이 중요한 경우 → 입력 순서를 유지해야 하는 경우\n",
    "- 입력 크기 n이 키 범위 u보다 크거나 비슷한 경우\n",
    "\n",
    "\n",
    "##### ❌ 체인 리스트 방식을 피해야 하는 경우\n",
    "\n",
    "- 키의 범위(u)가 너무 커서 메모리 사용이 비효율적인 경우\n",
    "- 보다 빠르고 캐시 효율적인 방식(예: 누적 합을 이용한 카운팅 정렬)이 필요한 경우\n",
    "\n",
    "\n",
    "#### 🔎 결론(Conclusion)\n",
    "- 체인 리스트를 이용한 카운팅 정렬은 중복 키를 안정적으로 처리하는 데 유리하지만, 추가적인 메모리와 연산 오버헤드가 발생할 수 있습니다.\n",
    "- 만약 메모리 효율성과 속도가 중요한 경우, 누적 합을 이용한 배열 기반 카운팅 정렬이 더 좋은 선택이 될 수 있습니다."
   ]
  },
  {
   "cell_type": "code",
   "execution_count": 3,
   "metadata": {},
   "outputs": [
    {
     "name": "stdout",
     "output_type": "stream",
     "text": [
      "[5, 2, 6, 3, 1, 4, 4, 7, 5, 6, 2, 1, 7, 5, 7, 9, 7, 5, 4, 3]\n",
      "[1, 1, 2, 2, 3, 3, 4, 4, 4, 5, 5, 5, 5, 6, 6, 7, 7, 7, 7, 9]\n"
     ]
    }
   ],
   "source": [
    "def counting_sort(A):\n",
    "    counts = [0] * (max(A)+1)\n",
    "    for x in A:\n",
    "        counts[x] += 1\n",
    "    i = 0\n",
    "    for x in range(len(counts)):\n",
    "        for _ in range(counts[x]):\n",
    "            A[i] = x\n",
    "            i += 1\n",
    "    return A\n",
    "\n",
    "A = [5,2,6,3,1,4,4,7,5,6,2,1,7,5,7,9,7,5,4,3]\n",
    "print(A)\n",
    "print(counting_sort(A))"
   ]
  },
  {
   "cell_type": "code",
   "execution_count": null,
   "metadata": {},
   "outputs": [],
   "source": []
  }
 ],
 "metadata": {
  "kernelspec": {
   "display_name": "base",
   "language": "python",
   "name": "python3"
  },
  "language_info": {
   "codemirror_mode": {
    "name": "ipython",
    "version": 3
   },
   "file_extension": ".py",
   "mimetype": "text/x-python",
   "name": "python",
   "nbconvert_exporter": "python",
   "pygments_lexer": "ipython3",
   "version": "3.10.13"
  }
 },
 "nbformat": 4,
 "nbformat_minor": 2
}
