{
 "cells": [
  {
   "cell_type": "markdown",
   "metadata": {},
   "source": [
    "#### selection sort(선택 정렬)\n",
    "- Time Complexity: O(n^2)"
   ]
  },
  {
   "cell_type": "code",
   "execution_count": null,
   "metadata": {},
   "outputs": [
    {
     "name": "stdout",
     "output_type": "stream",
     "text": [
      "[5, 2, 6, 3, 1, 4, 4, 7, 5, 6, 2, 1, 7, 5, 7, 9, 7, 5, 4, 3]\n",
      "[1, 1, 2, 2, 3, 3, 4, 4, 4, 5, 5, 5, 5, 6, 6, 7, 7, 7, 7, 9]\n",
      "549 ms ± 27.8 ms per loop (mean ± std. dev. of 7 runs, 1 loop each)\n"
     ]
    }
   ],
   "source": [
    "# 직접 구현해본 선택 정렬 알고리즘 1\n",
    "def selection_sort(L):\n",
    "    for i in range(len(L)-1):\n",
    "        minimum = L[i]\n",
    "        idx = i\n",
    "        for j in range(i, len(L)):\n",
    "            if minimum > L[j]:\n",
    "                minimum = L[j]\n",
    "                idx = j\n",
    "        L[idx] = L[i]\n",
    "        L[i] = minimum\n",
    "    return L\n",
    "L = [5,2,6,3,1,4,4,7,5,6,2,1,7,5,7,9,7,5,4,3]\n",
    "result = selection_sort(L.copy())\n",
    "print(L)\n",
    "print(result)\n",
    "%timeit selection_sort(list(range(4000, 0, -1)))"
   ]
  },
  {
   "cell_type": "code",
   "execution_count": null,
   "metadata": {},
   "outputs": [
    {
     "name": "stdout",
     "output_type": "stream",
     "text": [
      "[5, 2, 6, 3, 1, 4, 4, 7, 5, 6, 2, 1, 7, 5, 7, 9, 7, 5, 4, 3]\n",
      "[1, 1, 2, 2, 3, 3, 4, 4, 4, 5, 5, 5, 5, 6, 6, 7, 7, 7, 7, 9]\n",
      "537 ms ± 25.8 ms per loop (mean ± std. dev. of 7 runs, 1 loop each)\n"
     ]
    }
   ],
   "source": [
    "# 직접 구현해본 선택 정렬 알고리즘 2\n",
    "def selection_sort(L):\n",
    "    for i in range(len(L)-1):\n",
    "        minimum = i\n",
    "        for j in range(i, len(L)):\n",
    "            if L[minimum] > L[j]:\n",
    "                minimum = j\n",
    "        L[i], L[minimum] = L[minimum], L[i]\n",
    "    return L\n",
    "L = [5,2,6,3,1,4,4,7,5,6,2,1,7,5,7,9,7,5,4,3]\n",
    "result = selection_sort(L.copy())\n",
    "print(L)\n",
    "print(result)\n",
    "%timeit selection_sort(list(range(4000, 0, -1)))"
   ]
  },
  {
   "cell_type": "code",
   "execution_count": null,
   "metadata": {},
   "outputs": [],
   "source": []
  }
 ],
 "metadata": {
  "kernelspec": {
   "display_name": "base",
   "language": "python",
   "name": "python3"
  },
  "language_info": {
   "codemirror_mode": {
    "name": "ipython",
    "version": 3
   },
   "file_extension": ".py",
   "mimetype": "text/x-python",
   "name": "python",
   "nbconvert_exporter": "python",
   "pygments_lexer": "ipython3",
   "version": "3.10.13"
  },
  "orig_nbformat": 4
 },
 "nbformat": 4,
 "nbformat_minor": 2
}
