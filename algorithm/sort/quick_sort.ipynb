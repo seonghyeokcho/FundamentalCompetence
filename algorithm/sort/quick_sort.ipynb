{
 "cells": [
  {
   "cell_type": "markdown",
   "metadata": {},
   "source": [
    "#### quick sort(빠른 정렬)\n",
    "- Time Complexity: O(nlogn)"
   ]
  },
  {
   "cell_type": "code",
   "execution_count": 1,
   "metadata": {},
   "outputs": [],
   "source": [
    "# 랜덤 배열 생성\n",
    "import random\n",
    "\n",
    "random_array = [random.randint(1, 100) for _ in range(100)]"
   ]
  },
  {
   "cell_type": "code",
   "execution_count": 2,
   "metadata": {},
   "outputs": [
    {
     "name": "stdout",
     "output_type": "stream",
     "text": [
      "정렬된 배열: [1, 2, 4, 6, 7, 13, 8, 18, 11, 11, 14, 16, 16, 16, 18, 26, 18, 19, 19, 20, 22, 23, 26, 26, 26, 27, 27, 29, 29, 30, 30, 32, 30, 31, 32, 33, 33, 72, 33, 34, 34, 36, 39, 46, 39, 42, 43, 42, 44, 50, 47, 50, 51, 60, 54, 55, 55, 56, 56, 57, 58, 61, 60, 60, 62, 97, 66, 70, 66, 69, 71, 71, 77, 72, 72, 72, 74, 83, 75, 80, 81, 81, 82, 85, 85, 93, 87, 90, 93, 90, 91, 92, 91, 92, 92, 92, 95, 100, 96, 99]\n"
     ]
    }
   ],
   "source": [
    "# 피벗을 첫번째 원소로 지정하는 경우\n",
    "\n",
    "def quick_sort(L, low, high):\n",
    "    if low >= high:\n",
    "        return\n",
    "    \n",
    "    pivot = low\n",
    "    left, right = low + 1, high\n",
    "    \n",
    "    while left <= right:\n",
    "        while left <= high and L[left] <= L[pivot]: left += 1\n",
    "        while right > low and L[right] >= L[pivot]: right -= 1\n",
    "        \n",
    "        if left > right:\n",
    "            L[right], L[pivot] = L[pivot], L[right]\n",
    "        else:\n",
    "            L[left], L[right] = L[right], L[left]\n",
    "        \n",
    "    quick_sort(L, low, right - 1)\n",
    "    quick_sort(L, left + 1, high)\n",
    "    return L\n",
    "\n",
    "\n",
    "sorted_data = quick_sort(random_array, 0, len(random_array)-1)\n",
    "print(\"정렬된 배열:\", sorted_data)\n",
    "# %timeit quick_sort(random_array, 0, len(random_array) - 1)"
   ]
  },
  {
   "cell_type": "code",
   "execution_count": 3,
   "metadata": {},
   "outputs": [
    {
     "name": "stdout",
     "output_type": "stream",
     "text": [
      "정렬된 배열: [1, 2, 4, 6, 7, 8, 11, 11, 13, 14, 16, 16, 16, 18, 18, 18, 19, 19, 20, 22, 23, 26, 26, 26, 26, 27, 27, 29, 29, 30, 30, 30, 31, 32, 32, 33, 33, 33, 34, 34, 36, 39, 39, 42, 42, 43, 44, 46, 47, 50, 50, 51, 54, 55, 55, 56, 56, 57, 58, 60, 60, 60, 61, 62, 66, 66, 69, 70, 71, 71, 72, 72, 72, 72, 74, 75, 77, 80, 81, 81, 82, 83, 85, 85, 87, 90, 90, 91, 91, 92, 92, 92, 92, 93, 93, 95, 96, 97, 99, 100]\n"
     ]
    }
   ],
   "source": [
    "# 피벗을 가운데 인덱스에 해당하는 원소로 지정하는 경우\n",
    "\n",
    "def quick_sort(L, low, high):\n",
    "    left, right = low, high\n",
    "    pivot = L[(left + right)//2]\n",
    "    \n",
    "    while left <= right:\n",
    "        while pivot > L[left]: left += 1\n",
    "        while pivot < L[right]: right -= 1\n",
    "        \n",
    "        if left <= right:\n",
    "            L[left], L[right] = L[right], L[left]\n",
    "            left += 1\n",
    "            right -= 1\n",
    "        \n",
    "    if low < right:\n",
    "        quick_sort(L, low, right)\n",
    "    if high > left:\n",
    "        quick_sort(L, left, high)\n",
    "    return L\n",
    "\n",
    "\n",
    "sorted_data = quick_sort(random_array, 0, len(random_array)-1)\n",
    "print(\"정렬된 배열:\", sorted_data)\n",
    "# %timeit quick_sort(random_array, 0, len(random_array)-1)"
   ]
  },
  {
   "cell_type": "code",
   "execution_count": null,
   "metadata": {},
   "outputs": [],
   "source": []
  },
  {
   "cell_type": "code",
   "execution_count": null,
   "metadata": {},
   "outputs": [],
   "source": []
  }
 ],
 "metadata": {
  "kernelspec": {
   "display_name": "base",
   "language": "python",
   "name": "python3"
  },
  "language_info": {
   "codemirror_mode": {
    "name": "ipython",
    "version": 3
   },
   "file_extension": ".py",
   "mimetype": "text/x-python",
   "name": "python",
   "nbconvert_exporter": "python",
   "pygments_lexer": "ipython3",
   "version": "3.10.13"
  }
 },
 "nbformat": 4,
 "nbformat_minor": 2
}
