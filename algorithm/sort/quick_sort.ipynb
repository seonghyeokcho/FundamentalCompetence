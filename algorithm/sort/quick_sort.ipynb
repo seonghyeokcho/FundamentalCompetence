{
 "cells": [
  {
   "cell_type": "markdown",
   "metadata": {},
   "source": [
    "#### quick sort(빠른 정렬)\n",
    "- Time Complexity: O(nlogn)"
   ]
  },
  {
   "cell_type": "code",
   "execution_count": 107,
   "metadata": {},
   "outputs": [],
   "source": [
    "# 랜덤 배열 생성\n",
    "import random\n",
    "\n",
    "random_array = [random.randint(1, 100) for _ in range(100)]"
   ]
  },
  {
   "cell_type": "code",
   "execution_count": 114,
   "metadata": {},
   "outputs": [
    {
     "name": "stdout",
     "output_type": "stream",
     "text": [
      "정렬된 배열: [4, 5, 6, 7, 7, 7, 8, 8, 8, 11, 12, 14, 17, 18, 19, 19, 20, 24, 25, 25, 28, 29, 29, 30, 32, 32, 33, 33, 34, 34, 35, 38, 39, 40, 40, 40, 42, 43, 43, 44, 46, 46, 48, 48, 49, 49, 49, 50, 50, 51, 52, 52, 52, 53, 53, 56, 57, 59, 59, 60, 61, 63, 64, 64, 64, 65, 67, 70, 71, 73, 74, 74, 76, 79, 79, 81, 82, 82, 83, 83, 83, 84, 85, 86, 88, 88, 88, 90, 92, 93, 93, 95, 95, 96, 96, 97, 98, 98, 98, 100]\n"
     ]
    }
   ],
   "source": [
    "# 피벗을 첫번째 원소로 지정하는 경우\n",
    "\n",
    "def quick_sort(L, low, high):\n",
    "    if low >= high:\n",
    "        return\n",
    "    \n",
    "    pivot = low\n",
    "    left, right = low + 1, high\n",
    "    \n",
    "    while left <= right:\n",
    "        while left <= high and L[left] <= L[pivot]:\n",
    "            left += 1\n",
    "        while right > low and L[right] >= L[pivot]:\n",
    "            right -= 1\n",
    "        \n",
    "        if left > right:\n",
    "            L[right], L[pivot] = L[pivot], L[right]\n",
    "        else:\n",
    "            L[left], L[right] = L[right], L[left]\n",
    "        \n",
    "    quick_sort(L, low, right - 1)\n",
    "    quick_sort(L, left + 1, high)\n",
    "    return L\n",
    "\n",
    "\n",
    "sorted_data = quick_sort(random_array, 0, len(random_array)-1)\n",
    "print(\"정렬된 배열:\", sorted_data)\n",
    "# %timeit quick_sort(random_array, 0, len(random_array) - 1)"
   ]
  },
  {
   "cell_type": "code",
   "execution_count": 115,
   "metadata": {},
   "outputs": [
    {
     "name": "stdout",
     "output_type": "stream",
     "text": [
      "정렬된 배열: [4, 5, 6, 7, 7, 7, 8, 8, 8, 11, 12, 14, 17, 18, 19, 19, 20, 24, 25, 25, 28, 29, 29, 30, 32, 32, 33, 33, 34, 34, 35, 38, 39, 40, 40, 40, 42, 43, 43, 44, 46, 46, 48, 48, 49, 49, 49, 50, 50, 51, 52, 52, 52, 53, 53, 56, 57, 59, 59, 60, 61, 63, 64, 64, 64, 65, 67, 70, 71, 73, 74, 74, 76, 79, 79, 81, 82, 82, 83, 83, 83, 84, 85, 86, 88, 88, 88, 90, 92, 93, 93, 95, 95, 96, 96, 97, 98, 98, 98, 100]\n"
     ]
    }
   ],
   "source": [
    "# 피벗을 가운데 인덱스에 해당하는 원소로 지정하는 경우\n",
    "\n",
    "def quick_sort(L, low, high):\n",
    "    left, right = low, high\n",
    "    pivot = L[(left + right)//2]\n",
    "    \n",
    "    while left <= right:\n",
    "        while pivot > L[left]: left += 1\n",
    "        while pivot < L[right]: right -= 1\n",
    "        \n",
    "        if left <= right:\n",
    "            L[left], L[right] = L[right], L[left]\n",
    "            left += 1\n",
    "            right -= 1\n",
    "        \n",
    "    if low < right:\n",
    "        quick_sort(L, low, right)\n",
    "    if high > left:\n",
    "        quick_sort(L, left, high)\n",
    "    return L\n",
    "\n",
    "\n",
    "sorted_data = quick_sort(random_array, 0, len(random_array)-1)\n",
    "print(\"정렬된 배열:\", sorted_data)\n",
    "# %timeit quick_sort(random_array, 0, len(random_array)-1)"
   ]
  },
  {
   "cell_type": "code",
   "execution_count": null,
   "metadata": {},
   "outputs": [],
   "source": []
  },
  {
   "cell_type": "code",
   "execution_count": null,
   "metadata": {},
   "outputs": [],
   "source": []
  }
 ],
 "metadata": {
  "kernelspec": {
   "display_name": "base",
   "language": "python",
   "name": "python3"
  },
  "language_info": {
   "codemirror_mode": {
    "name": "ipython",
    "version": 3
   },
   "file_extension": ".py",
   "mimetype": "text/x-python",
   "name": "python",
   "nbconvert_exporter": "python",
   "pygments_lexer": "ipython3",
   "version": "3.10.13"
  }
 },
 "nbformat": 4,
 "nbformat_minor": 2
}
