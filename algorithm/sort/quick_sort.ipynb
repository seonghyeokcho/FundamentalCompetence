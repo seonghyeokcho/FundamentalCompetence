{
 "cells": [
  {
   "cell_type": "markdown",
   "metadata": {},
   "source": [
    "#### quick sort(빠른 정렬)\n",
    "- Time Complexity: O(nlogn)"
   ]
  },
  {
   "cell_type": "code",
   "execution_count": 1,
   "metadata": {},
   "outputs": [],
   "source": [
    "# 랜덤 배열 생성\n",
    "import random\n",
    "\n",
    "random_array = [random.randint(1, 100) for _ in range(4000)]"
   ]
  },
  {
   "cell_type": "code",
   "execution_count": null,
   "metadata": {},
   "outputs": [
    {
     "name": "stdout",
     "output_type": "stream",
     "text": [
      "[5, 2, 6, 3, 1, 4, 4, 7, 5, 6, 2, 1, 7, 5, 7, 9, 7, 5, 4, 3]\n",
      "[1, 1, 2, 2, 3, 3, 4, 4, 4, 5, 5, 5, 5, 6, 6, 7, 7, 7, 7, 9]\n",
      "4.77 ms ± 230 µs per loop (mean ± std. dev. of 7 runs, 100 loops each)\n"
     ]
    }
   ],
   "source": [
    "# 직접 구현해본 병합 정렬 알고리즘\n",
    "\n",
    "def quick_sort(L, low, high):\n",
    "    left, right = low, high\n",
    "    pivot = L[(left + right)//2]\n",
    "    \n",
    "    while left <= right:\n",
    "        while pivot > L[left]: left += 1\n",
    "        while pivot < L[right]: right -= 1\n",
    "        \n",
    "        if left <= right:\n",
    "            L[left], L[right] = L[right], L[left]\n",
    "            left += 1\n",
    "            right -= 1\n",
    "        \n",
    "    if low < right:\n",
    "        quick_sort(L, low, right)\n",
    "    if high > left:\n",
    "        quick_sort(L, left, high)\n",
    "    return L\n",
    "\n",
    "\n",
    "L = [5,2,6,3,1,4,4,7,5,6,2,1,7,5,7,9,7,5,4,3]\n",
    "result = quick_sort(L.copy(), 0, len(L)-1)\n",
    "print(L)\n",
    "print(result)\n",
    "%timeit quick_sort(random_array, 0, len(random_array) - 1)"
   ]
  },
  {
   "cell_type": "code",
   "execution_count": null,
   "metadata": {},
   "outputs": [],
   "source": []
  },
  {
   "cell_type": "code",
   "execution_count": null,
   "metadata": {},
   "outputs": [],
   "source": []
  },
  {
   "cell_type": "code",
   "execution_count": null,
   "metadata": {},
   "outputs": [],
   "source": []
  }
 ],
 "metadata": {
  "kernelspec": {
   "display_name": "base",
   "language": "python",
   "name": "python3"
  },
  "language_info": {
   "codemirror_mode": {
    "name": "ipython",
    "version": 3
   },
   "file_extension": ".py",
   "mimetype": "text/x-python",
   "name": "python",
   "nbconvert_exporter": "python",
   "pygments_lexer": "ipython3",
   "version": "3.10.13"
  }
 },
 "nbformat": 4,
 "nbformat_minor": 2
}
