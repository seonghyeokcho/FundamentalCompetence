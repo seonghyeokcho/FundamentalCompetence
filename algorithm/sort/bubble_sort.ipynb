{
 "cells": [
  {
   "cell_type": "markdown",
   "metadata": {},
   "source": [
    "#### bubble sort(버블 정렬)\n",
    "- Time Complexity: O(n^2)"
   ]
  },
  {
   "cell_type": "code",
   "execution_count": 11,
   "metadata": {},
   "outputs": [
    {
     "name": "stdout",
     "output_type": "stream",
     "text": [
      "[5, 2, 6, 3, 1, 4, 4, 7, 5, 6, 2, 1, 7, 5, 7, 9, 7, 5, 4, 3]\n",
      "[1, 1, 2, 2, 3, 3, 4, 4, 4, 5, 5, 5, 5, 6, 6, 7, 7, 7, 7, 9]\n",
      "2.41 s ± 82.1 ms per loop (mean ± std. dev. of 7 runs, 1 loop each)\n"
     ]
    }
   ],
   "source": [
    "# 직접 구현해본 버블 정렬 알고리즘 1\n",
    "def bubble_sort(L):\n",
    "    for _ in range(len(L)-1):\n",
    "        for i in range(len(L)-1):\n",
    "            if L[i] > L[i+1]:\n",
    "                L[i], L[i+1] = L[i+1], L[i]\n",
    "    return L\n",
    "\n",
    "L = [5,2,6,3,1,4,4,7,5,6,2,1,7,5,7,9,7,5,4,3]\n",
    "result = bubble_sort(L.copy())\n",
    "print(L)\n",
    "print(result)\n",
    "%timeit bubble_sort(list(range(4000, 0, -1)))"
   ]
  },
  {
   "cell_type": "code",
   "execution_count": 12,
   "metadata": {},
   "outputs": [
    {
     "name": "stdout",
     "output_type": "stream",
     "text": [
      "[5, 2, 6, 3, 1, 4, 4, 7, 5, 6, 2, 1, 7, 5, 7, 9, 7, 5, 4, 3]\n",
      "[1, 1, 2, 2, 3, 3, 4, 4, 4, 5, 5, 5, 5, 6, 6, 7, 7, 7, 7, 9]\n",
      "1.69 s ± 84 ms per loop (mean ± std. dev. of 7 runs, 1 loop each)\n"
     ]
    }
   ],
   "source": [
    "# 직접 구현해본 버블 정렬 알고리즘 2\n",
    "def bubble_sort(L):\n",
    "    for i in range(len(L)-1):\n",
    "        for j in range(len(L)-1-i):  # 두번째(j) 반복문이 끝날때마다 오른쪽으로 가장 큰 수부터 정렬되기 때문에 매 반복마다 i씩 빼면서 탐색\n",
    "            if L[j] > L[j+1]:\n",
    "                L[j], L[j+1] = L[j+1], L[j]\n",
    "    return L\n",
    "\n",
    "L = [5,2,6,3,1,4,4,7,5,6,2,1,7,5,7,9,7,5,4,3]\n",
    "result = bubble_sort(L.copy())\n",
    "print(L)\n",
    "print(result)\n",
    "%timeit bubble_sort(list(range(4000, 0, -1)))"
   ]
  },
  {
   "cell_type": "code",
   "execution_count": null,
   "metadata": {},
   "outputs": [],
   "source": []
  }
 ],
 "metadata": {
  "kernelspec": {
   "display_name": "base",
   "language": "python",
   "name": "python3"
  },
  "language_info": {
   "codemirror_mode": {
    "name": "ipython",
    "version": 3
   },
   "file_extension": ".py",
   "mimetype": "text/x-python",
   "name": "python",
   "nbconvert_exporter": "python",
   "pygments_lexer": "ipython3",
   "version": "3.10.13"
  },
  "orig_nbformat": 4
 },
 "nbformat": 4,
 "nbformat_minor": 2
}
