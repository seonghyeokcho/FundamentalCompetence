{
 "cells": [
  {
   "cell_type": "markdown",
   "metadata": {},
   "source": [
    "#### 위상 정렬 (Topology Sort)\n",
    "\n",
    "- Time Complexity: O(v+e)\n",
    "    - v: 노드의 개수\n",
    "    - e: 간선의 개수"
   ]
  },
  {
   "cell_type": "code",
   "execution_count": 2,
   "metadata": {},
   "outputs": [
    {
     "data": {
      "text/plain": [
       "[1, 2, 5, 3, 6, 4, 7]"
      ]
     },
     "execution_count": 2,
     "metadata": {},
     "output_type": "execute_result"
    }
   ],
   "source": [
    "from collections import deque\n",
    "\n",
    "\n",
    "def topology_sort():\n",
    "    result = []\n",
    "    queue = deque()\n",
    "    \n",
    "    for i in range(1, len(graph)):\n",
    "        if indegree[i] == 0:\n",
    "            queue.append(i)\n",
    "    \n",
    "    while queue:\n",
    "        now = queue.popleft()\n",
    "        result.append(now)\n",
    "        \n",
    "        for i in graph[now]:\n",
    "            indegree[i] -= 1\n",
    "            if indegree[i] == 0:\n",
    "                queue.append(i)\n",
    "    return result\n",
    "\n",
    "\n",
    "graph = [[], [2, 5], [3, 6], [4], [7], [6], [4], []]\n",
    "indegree = [0] * len(graph)\n",
    "\n",
    "for node in graph:\n",
    "    for i in node:\n",
    "        indegree[i] += 1\n",
    "\n",
    "topology_sort()"
   ]
  }
 ],
 "metadata": {
  "kernelspec": {
   "display_name": "base",
   "language": "python",
   "name": "python3"
  },
  "language_info": {
   "codemirror_mode": {
    "name": "ipython",
    "version": 3
   },
   "file_extension": ".py",
   "mimetype": "text/x-python",
   "name": "python",
   "nbconvert_exporter": "python",
   "pygments_lexer": "ipython3",
   "version": "3.10.13"
  }
 },
 "nbformat": 4,
 "nbformat_minor": 2
}
