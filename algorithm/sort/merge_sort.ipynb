{
 "cells": [
  {
   "cell_type": "markdown",
   "metadata": {},
   "source": [
    "#### merge sort(합병 정렬)\n",
    "- Time Complexity: O(nlogn)\n",
    "    - for python -> 2.2 O(nlogn) µs"
   ]
  },
  {
   "cell_type": "code",
   "execution_count": null,
   "metadata": {},
   "outputs": [],
   "source": [
    "# 직접 구현해본 합병 정렬 알고리즘\n",
    "def merge_sort(LIST):\n",
    "    if len(LIST) == 1:\n",
    "        return LIST\n",
    "    \n",
    "    L_p = merge_sort(LIST[:len(LIST)//2])\n",
    "    R_p = merge_sort(LIST[len(LIST)//2:])\n",
    "    \n",
    "    merged_L = []\n",
    "    L = R = 0\n",
    "    while L < len(L_p) and R < len(R_p):\n",
    "        if L_p[L] > R_p[R]:\n",
    "            merged_L.append(R_p[R])\n",
    "            R += 1\n",
    "        else:\n",
    "            merged_L.append(L_p[L])\n",
    "            L += 1\n",
    "            \n",
    "    merged_L += L_p[L:]\n",
    "    merged_L += R_p[R:]\n",
    "    \n",
    "    return merged_L\n",
    "\n",
    "# L = [5,2,6,3,1,4,4,7,5,6,2,1,7,5,7,9,7,5,4,3]\n",
    "L = list(range(4000, 0, -1))\n",
    "%timeit merge_sort(L)\n",
    "# %time merge_sort(L)"
   ]
  },
  {
   "cell_type": "code",
   "execution_count": 1,
   "metadata": {},
   "outputs": [
    {
     "name": "stdout",
     "output_type": "stream",
     "text": [
      "0\n",
      "1\n",
      "2\n",
      "3\n",
      "4\n",
      "5\n",
      "6\n",
      "7\n",
      "8\n",
      "9\n"
     ]
    }
   ],
   "source": [
    "for i in range(10):\n",
    "    print(i)"
   ]
  },
  {
   "cell_type": "code",
   "execution_count": null,
   "metadata": {},
   "outputs": [],
   "source": []
  }
 ],
 "metadata": {
  "kernelspec": {
   "display_name": "base",
   "language": "python",
   "name": "python3"
  },
  "language_info": {
   "codemirror_mode": {
    "name": "ipython",
    "version": 3
   },
   "file_extension": ".py",
   "mimetype": "text/x-python",
   "name": "python",
   "nbconvert_exporter": "python",
   "pygments_lexer": "ipython3",
   "version": "3.10.13"
  },
  "orig_nbformat": 4
 },
 "nbformat": 4,
 "nbformat_minor": 2
}
