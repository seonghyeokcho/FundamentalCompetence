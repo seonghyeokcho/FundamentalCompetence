{
 "cells": [
  {
   "cell_type": "markdown",
   "metadata": {},
   "source": [
    "#### merge sort(합병 정렬)\n",
    "- Time Complexity: O(nlogn)\n",
    "    - for python -> 2.2 O(nlogn) µs"
   ]
  },
  {
   "cell_type": "code",
   "execution_count": 8,
   "metadata": {},
   "outputs": [
    {
     "name": "stdout",
     "output_type": "stream",
     "text": [
      "Before: [5, 2, 6, 3, 1, 4, 4, 7, 5, 6, 2, 1, 7, 5, 7, 9, 7, 5, 4, 3]\n",
      " After: [1, 1, 2, 2, 3, 3, 4, 4, 4, 5, 5, 5, 5, 6, 6, 7, 7, 7, 7, 9]\n",
      "9.39 ms ± 2.41 ms per loop (mean ± std. dev. of 7 runs, 10 loops each)\n"
     ]
    }
   ],
   "source": [
    "# 직접 구현해본 합병 정렬 알고리즘 1\n",
    "def merge_sort(A):\n",
    "    if len(A) == 1:\n",
    "        return A\n",
    "    \n",
    "    left_A = merge_sort(A[:len(A)//2])\n",
    "    right_A = merge_sort(A[len(A)//2:])\n",
    "    \n",
    "    merged_A = []\n",
    "    i = j = 0\n",
    "    while i < len(left_A) and j < len(right_A):\n",
    "        if left_A[i] > right_A[j]:\n",
    "            merged_A.append(right_A[j])\n",
    "            j += 1\n",
    "        else:  # Stable Sort 성질을 유지하기 위해 left_A[i] <= right_A[j] 일 때는 left_A에서 원소를 가져온다.\n",
    "            merged_A.append(left_A[i])\n",
    "            i += 1\n",
    "            \n",
    "    merged_A += left_A[i:]\n",
    "    merged_A += right_A[j:]\n",
    "    \n",
    "    return merged_A\n",
    "\n",
    "A = [5,2,6,3,1,4,4,7,5,6,2,1,7,5,7,9,7,5,4,3]\n",
    "result = merge_sort(A)\n",
    "print(\"Before:\", A)\n",
    "print(\" After:\", result)\n",
    "%timeit merge_sort(list(range(4000, 0, -1)))"
   ]
  },
  {
   "cell_type": "code",
   "execution_count": 9,
   "metadata": {},
   "outputs": [
    {
     "name": "stdout",
     "output_type": "stream",
     "text": [
      "Before: [5, 2, 6, 3, 1, 4, 4, 7, 5, 6, 2, 1, 7, 5, 7, 9, 7, 5, 4, 3]\n",
      " After: [1, 1, 2, 2, 3, 3, 4, 4, 4, 5, 5, 5, 5, 6, 6, 7, 7, 7, 7, 9]\n",
      "85 µs ± 3.71 µs per loop (mean ± std. dev. of 7 runs, 10,000 loops each)\n"
     ]
    }
   ],
   "source": [
    "# 직접 구현해본 합병 정렬 알고리즘 2\n",
    "def merge_sort(A, low, high):\n",
    "    if 1 < high - low:\n",
    "        mid = (low + high + 1) // 2\n",
    "        merge_sort(A, low, mid)\n",
    "        merge_sort(A, mid, high)\n",
    "        L, R = A[low:mid], A[mid:high]\n",
    "        i = j = 0\n",
    "        while low < high:\n",
    "            if j >= len(R) or (i < len(L) and L[i] <= R[j]):  # L[i] <= R[j] 이기 때문에 Stable Sort의 성질을 가짐\n",
    "                A[low] = L[i]\n",
    "                i += 1\n",
    "            else:\n",
    "                A[low] = R[j]\n",
    "                j += 1\n",
    "            low += 1\n",
    "\n",
    "A = [5,2,6,3,1,4,4,7,5,6,2,1,7,5,7,9,7,5,4,3]\n",
    "print(\"Before:\", A)\n",
    "merge_sort(A, 0, len(A))\n",
    "print(\" After:\", A)\n",
    "%timeit merge_sort(list(range(4000, 0, -1)), 0, len(A))"
   ]
  },
  {
   "cell_type": "code",
   "execution_count": null,
   "metadata": {},
   "outputs": [],
   "source": []
  }
 ],
 "metadata": {
  "kernelspec": {
   "display_name": "base",
   "language": "python",
   "name": "python3"
  },
  "language_info": {
   "codemirror_mode": {
    "name": "ipython",
    "version": 3
   },
   "file_extension": ".py",
   "mimetype": "text/x-python",
   "name": "python",
   "nbconvert_exporter": "python",
   "pygments_lexer": "ipython3",
   "version": "3.10.13"
  },
  "orig_nbformat": 4
 },
 "nbformat": 4,
 "nbformat_minor": 2
}
