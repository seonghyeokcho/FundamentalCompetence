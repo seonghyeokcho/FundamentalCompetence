{
 "cells": [
  {
   "cell_type": "markdown",
   "metadata": {},
   "source": [
    "#### merge sort(합병 정렬)\n",
    "- Time Complexity: O(nlogn)\n",
    "    - for python -> 2.2 O(nlogn) µs"
   ]
  },
  {
   "cell_type": "code",
   "execution_count": null,
   "metadata": {},
   "outputs": [
    {
     "name": "stdout",
     "output_type": "stream",
     "text": [
      "[5, 2, 6, 3, 1, 4, 4, 7, 5, 6, 2, 1, 7, 5, 7, 9, 7, 5, 4, 3]\n",
      "[1, 1, 2, 2, 3, 3, 4, 4, 4, 5, 5, 5, 5, 6, 6, 7, 7, 7, 7, 9]\n",
      "35.4 ms ± 3.63 ms per loop (mean ± std. dev. of 7 runs, 10 loops each)\n"
     ]
    }
   ],
   "source": [
    "# 직접 구현해본 합병 정렬 알고리즘\n",
    "def merge_sort(L):\n",
    "    if len(L) == 1:\n",
    "        return L\n",
    "    \n",
    "    left_L = merge_sort(L[:len(L)//2])\n",
    "    right_L = merge_sort(L[len(L)//2:])\n",
    "    \n",
    "    merged_L = []\n",
    "    i = j = 0\n",
    "    while i < len(left_L) and j < len(right_L):\n",
    "        if left_L[i] > right_L[j]:\n",
    "            merged_L.append(right_L[j])\n",
    "            j += 1\n",
    "        else:  # Stable Sort 성질을 유지하기 위해 left_L[i] <= right_L[j] 일 때는 left_L에서 원소를 가져온다.\n",
    "            merged_L.append(left_L[i])\n",
    "            i += 1\n",
    "            \n",
    "    merged_L += left_L[i:]\n",
    "    merged_L += right_L[j:]\n",
    "    \n",
    "    return merged_L\n",
    "\n",
    "L = [5,2,6,3,1,4,4,7,5,6,2,1,7,5,7,9,7,5,4,3]\n",
    "result = merge_sort(L.copy())\n",
    "print(L)\n",
    "print(result)\n",
    "%timeit merge_sort(list(range(4000, 0, -1)))"
   ]
  },
  {
   "cell_type": "code",
   "execution_count": null,
   "metadata": {},
   "outputs": [],
   "source": []
  }
 ],
 "metadata": {
  "kernelspec": {
   "display_name": "base",
   "language": "python",
   "name": "python3"
  },
  "language_info": {
   "codemirror_mode": {
    "name": "ipython",
    "version": 3
   },
   "file_extension": ".py",
   "mimetype": "text/x-python",
   "name": "python",
   "nbconvert_exporter": "python",
   "pygments_lexer": "ipython3",
   "version": "3.10.13"
  },
  "orig_nbformat": 4
 },
 "nbformat": 4,
 "nbformat_minor": 2
}
