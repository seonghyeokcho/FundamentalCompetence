{
 "cells": [
  {
   "cell_type": "code",
   "execution_count": null,
   "metadata": {},
   "outputs": [],
   "source": []
  },
  {
   "cell_type": "code",
   "execution_count": 1,
   "metadata": {},
   "outputs": [
    {
     "name": "stdout",
     "output_type": "stream",
     "text": [
      "[329, 328, 457, 437, 657, 839, 436, 720, 355]\n"
     ]
    },
    {
     "data": {
      "text/plain": [
       "[1, 2, 3, 4, 5, 6, 7, 8, 9, 10, 11, 12, 13, 14, 15, 16, 17, 18, 19, 20]"
      ]
     },
     "execution_count": 1,
     "metadata": {},
     "output_type": "execute_result"
    }
   ],
   "source": [
    "def counting_sort(A):                ## 체인 리스트 활용\n",
    "    u = 1 + max([x.key for x in A])  # O(n): 최댓값 찾기\n",
    "    D = [[] for _ in range(u)]       # O(u): 빈 리스트 배열 초기화\n",
    "    for x in A:                      # O(n): 각 숫자를 해당 인덱스 리스트에 추가\n",
    "        D[x.key].append(x)\n",
    "    i = 0\n",
    "    for chain in D:                  # O(u): 리스트 배열 D를 순회하며 정렬된 값 저장(재할당)\n",
    "        for x in chain:\n",
    "            A[i] = x\n",
    "            i += 1\n",
    "\n",
    "\n",
    "def radix_sort(A):\n",
    "    n = len(A)\n",
    "    u = 1 + max(A)                              # O(n): 최댓값 찾기\n",
    "    c = 1 + (u.bit_length() // n.bit_length())\n",
    "    class Obj: pass\n",
    "    D = [Obj() for _ in A]                      # O(n): 클래스 배열 초기화\n",
    "    for i in range(n):                          # O(nc): 입력 리스트 내 각 요소들에 대한 자릿수 튜플(리스트) 생성\n",
    "        D[i].digits = []\n",
    "        D[i].item = A[i]\n",
    "        q = A[i]\n",
    "        for _ in range(c):                      # O(c): 요소 i에 대한 자릿수 튜플(리스트) 생성\n",
    "            q, r = divmod(q, 10)\n",
    "            D[i].digits.append(r)\n",
    "    for i in range(c):                          # O(nc): 가장 작은 자릿수부터 정렬\n",
    "        for j in range(n):                      # O(n): 정렬할 자릿수를 D[j].key 로 저장\n",
    "            D[j].key = D[j].digits[i]\n",
    "        counting_sort(D)                        # O(n): 카운팅 정렬\n",
    "    for i in range(n):                          # O(n): 입력 리스트 A를 순회하며 정렬된 값 저장(재할당)\n",
    "        A[i] = D[i].item\n",
    "    return A\n",
    "\n",
    "\n",
    "A = [329,328,457,437,657,839,436,720,355]\n",
    "print(A)\n",
    "radix_sort(list(range(20, 0, -1)))"
   ]
  },
  {
   "cell_type": "code",
   "execution_count": null,
   "metadata": {},
   "outputs": [],
   "source": []
  }
 ],
 "metadata": {
  "kernelspec": {
   "display_name": "base",
   "language": "python",
   "name": "python3"
  },
  "language_info": {
   "codemirror_mode": {
    "name": "ipython",
    "version": 3
   },
   "file_extension": ".py",
   "mimetype": "text/x-python",
   "name": "python",
   "nbconvert_exporter": "python",
   "pygments_lexer": "ipython3",
   "version": "3.10.13"
  }
 },
 "nbformat": 4,
 "nbformat_minor": 2
}
