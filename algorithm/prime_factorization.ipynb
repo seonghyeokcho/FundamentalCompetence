{
 "cells": [
  {
   "attachments": {},
   "cell_type": "markdown",
   "metadata": {},
   "source": [
    "### 소인수 분해(Prime Factorization)\n",
    "- 1보다 큰 정수 n을 소수의 곱으로 표현한 것\n",
    "$$n=p_1^{k_1}\\times p_2^{k_2}\\times \\cdots \\times p_m^{k_m}$$\n",
    "\n",
    "#### <font color=\"red\">산술의 기본정리(Fundamental Theorem of Arithmetic)</font>\n",
    "- 1보다 큰 정수 n은 모두 유일한 소수의 곱으로 표현할 수 있다.\n",
    "- <font color=\"red\">유일한 인수분해 정리(Unique Factorization Theorem)</font>\n",
    "    - 1보다 큰 정수 n을 인수분해하는 방법은 유일하다.\n",
    "$$p_1<p_2<\\cdots<p_m$$\n",
    "\n",
    "#### 수학적 정의들\n",
    "- <font color=\"red\">소수</font>(prime): 1과 자신만을 약수(인수)로 가지는 1보다 큰 정수\n",
    "- 합성수(composite): 1보다 큰 정수 중에서 소수가 아닌 수\n",
    "- <font color=\"red\">소인수</font>(prime factor): 주어진 정수의 소수인 인수(약수)\n",
    "- <font color=\"red\">인수</font>(factor): 주어진 정수의 약수(divisor)\n",
    "    - 약수(divisor): 정수 n, m, k에 대하여 n = km (k != 0)일 때, k를 n의 약수라 한다.\n",
    "- <font color=\"red\">서로소</font>(relative prime): 최대 공약수가 1인 두 정수를 서로소라 한다.\n",
    "    - 둘 다 0이 아닌 두 정수 n, m에 대하여 gcd(n,m) = 1이면, n과 m은 서로소"
   ]
  },
  {
   "attachments": {},
   "cell_type": "markdown",
   "metadata": {},
   "source": [
    "#### 첫 번째 소인수 분해 알고리즘\n",
    "- 입력: 1보다 큰 정수 n\n",
    "- 출력: 소인수와 차수(order)의 딕셔너리\n",
    "    - {p1:k1, p2:k2, ..., pm:km}\n",
    "- 입출력 예시\n",
    "    - 입력: n = 360\n",
    "    - 출력: {2:3, 3:2, 5:1}\n",
    "- 알고리즘\n",
    "    - 2부터 sqrt(n)까지의 정수 i에 대해서 순차적으로 반복\n",
    "        - i가 n의 약수라면 딕셔너리에 추가 (차수는 1로 초기화, 딕셔너리에 이미 해당 약수가 존재하면 차수를 1 증가)\n",
    "        - n은 n을 i로 나눈 몫으로 변경\n",
    "        - i가 n의 약수가 아닐 때까지 반복"
   ]
  },
  {
   "cell_type": "code",
   "execution_count": 128,
   "metadata": {},
   "outputs": [
    {
     "name": "stdout",
     "output_type": "stream",
     "text": [
      "360 : {2: 3, 3: 2, 5: 1}\n"
     ]
    }
   ],
   "source": [
    "def add_factor(factors, f):\n",
    "    if f not in factors:\n",
    "        factors[f] = 1\n",
    "    else:\n",
    "        factors[f] += 1\n",
    "\n",
    "\n",
    "def factorize_1(n):\n",
    "    prime_factors = {}\n",
    "    \n",
    "    for i in range(2, int(n**0.5)+1):\n",
    "        while n % i == 0:\n",
    "            add_factor(prime_factors, i)\n",
    "            n //= i\n",
    "            \n",
    "    if n > 1:\n",
    "        add_factor(prime_factors, n)\n",
    "        \n",
    "    return prime_factors\n",
    "\n",
    "n = 360\n",
    "print(f\"{n} : {factorize_1(n)}\")"
   ]
  },
  {
   "attachments": {},
   "cell_type": "markdown",
   "metadata": {},
   "source": [
    "- 메르센 소수(첫 번째 소인수 분해 알고리즘으로 구현)"
   ]
  },
  {
   "cell_type": "code",
   "execution_count": 132,
   "metadata": {},
   "outputs": [
    {
     "name": "stdout",
     "output_type": "stream",
     "text": [
      "# of Prime : 8\n",
      "실행 시간 : 6.3390s\n"
     ]
    }
   ],
   "source": [
    "import time\n",
    "\n",
    "\n",
    "num_of_prime = 0\n",
    "start = time.time()\n",
    "for i in range(2, 50):\n",
    "    n = 2**i - 1\n",
    "    factorization_1 = factorize_1(n)\n",
    "    is_prime = \"*\" if len(factorization_1) == 1 else \"\"\n",
    "    if is_prime:\n",
    "        num_of_prime += 1\n",
    "    # print(f\"{i}, {n} : {factorization_1} {is_prime}\")\n",
    "end = time.time()\n",
    "print(f\"# of Prime : {num_of_prime}\")\n",
    "print(f\"실행 시간 : {end - start:.4f}s\")"
   ]
  },
  {
   "attachments": {},
   "cell_type": "markdown",
   "metadata": {},
   "source": [
    "#### 성능 개선을 위한 아이디어\n",
    "\n",
    "- 소인수는 소수이기 때문에, 우선 1부터 |sqrt(n)|까지의 모든 소수를 먼저 찾는다.\n",
    "    - primes = find_primes(sqrt(n))\n",
    "- primes 에 있는 소수들로만 소인수 분해를 진행한다."
   ]
  },
  {
   "attachments": {},
   "cell_type": "markdown",
   "metadata": {},
   "source": [
    "#### 소수 판별하기\n",
    "\n",
    "- 2부터 sqrt(n)까지 i에 대하여 반복하여 실행\n",
    "    - i가 n의 약수라면 n은 소수가 아님\n",
    "    - 위 과정을 끝까지 반복했을 때, 모든 i에 대하여 약수가 아니면 소수"
   ]
  },
  {
   "cell_type": "code",
   "execution_count": 55,
   "metadata": {},
   "outputs": [
    {
     "name": "stdout",
     "output_type": "stream",
     "text": [
      "2097151 : 155611\n",
      "CPU times: user 11.3 s, sys: 75.2 ms, total: 11.3 s\n",
      "Wall time: 11.5 s\n"
     ]
    }
   ],
   "source": [
    "def is_prime(n):\n",
    "    for i in range(2, int(n**0.5) + 1):\n",
    "        if n % i == 0:\n",
    "            return False\n",
    "    return True\n",
    "\n",
    "\n",
    "def find_primes(n):\n",
    "    primes = []\n",
    "    for i in range(2, n + 1):\n",
    "        if is_prime(i):\n",
    "            primes.append(i)\n",
    "    return primes\n",
    "\n",
    "n = 2**21 - 1\n",
    "%time print(f\"{n} : {len(find_primes(n))}\")"
   ]
  },
  {
   "attachments": {},
   "cell_type": "markdown",
   "metadata": {},
   "source": [
    "- 에라토스테네스의 체(Eratosthenes' Sieve)\n",
    "    - 체(Sieve): 체(도구)는 가루를 곱체 치거나 액체를 거르는 데 쓰는 기구이다.\n",
    "    - 1부터 n까지의 모든 소수를 효율적으로 찾는 알고리즘\n",
    "    - 시간복잡도가 O(n * log(log(n))) 이다.\n",
    "        - O(n * log(log(n))) ≒ O(n): n에 대해서는 거의 선형 시간이 소요된다.\n",
    "        - 하지만, n의 비트 수 b에 대해서는 여전히 지수 시간인 O(2^b)이다."
   ]
  },
  {
   "cell_type": "code",
   "execution_count": 46,
   "metadata": {},
   "outputs": [
    {
     "name": "stdout",
     "output_type": "stream",
     "text": [
      "2097151 : 155611\n",
      "CPU times: user 456 ms, sys: 18.4 ms, total: 475 ms\n",
      "Wall time: 479 ms\n"
     ]
    }
   ],
   "source": [
    "# 에라토스테네스의 체(Eratosthenes' Sieve) 구현\n",
    "# import math\n",
    "\n",
    "\n",
    "def sieve(n):\n",
    "    flags = [0, 0] + [1] * (n-1)\n",
    "    # sqrtn = math.floor(math.sqrt(n))\n",
    "    for i in range(2, int(n**0.5) + 1):\n",
    "        if flags[i] == 1:\n",
    "            for j in range(i*i, n+1, i):  # 2 x i -> i x i 로 변경\n",
    "                flags[j] = 0\n",
    "    primes = []\n",
    "    for i in range(len(flags)):\n",
    "        if flags[i] == 1:\n",
    "            primes.append(i)\n",
    "    return primes\n",
    "\n",
    "n = 2**21 - 1\n",
    "%time print(f\"{n} : {len(sieve(n))}\")"
   ]
  },
  {
   "cell_type": "code",
   "execution_count": 57,
   "metadata": {},
   "outputs": [
    {
     "name": "stdout",
     "output_type": "stream",
     "text": [
      "2097151 : 155611\n",
      "CPU times: user 645 ms, sys: 149 ms, total: 794 ms\n",
      "Wall time: 803 ms\n"
     ]
    }
   ],
   "source": [
    "# sieve() 함수의 set 버전 - 차집합으로 구현\n",
    "def set_sieve(n):\n",
    "    primes = set(range(2, n+1))\n",
    "    for i in range(2, int(n**0.5) + 1):\n",
    "        if i in primes:\n",
    "            primes -= set(range(i*i, n+1, i))\n",
    "    return primes\n",
    "\n",
    "n = 2**21 - 1\n",
    "%time print(f\"{n} : {len(set_sieve(n))}\")"
   ]
  },
  {
   "attachments": {},
   "cell_type": "markdown",
   "metadata": {},
   "source": [
    "- 에라토스테네스의 체 구현의 문제점\n",
    "    - 메모리가 충분한가?\n",
    "        - flags 배열을 저장할 수 있는 충분한 메모리 공간이 필요함\n",
    "        - 메모리 공간이 충분히 확도 되었음에도 여전히 n이 너무 크다면?\n",
    "            - 예) 2^1024 ...\n",
    "        - 공간복잡도 측면에서 비효율적이다."
   ]
  },
  {
   "attachments": {},
   "cell_type": "markdown",
   "metadata": {},
   "source": [
    "- 에라토스테네스의 체의 문제점 해결방안\n",
    "    - 세그먼트(조각, 부분) 에라토스테네스의 체\n",
    "        - n이 충분히 크면, n을 sqrt(n)개의 세그먼트로 분할\n",
    "        - 첫 번째 세그먼트에서 소수를 모두 찾는다.\n",
    "            - 이 소수들이 seed primes 가 된다.\n",
    "        - seed primes로 다음 세그먼트들을 차례로 방문하며 처리한다.\n",
    "        - 공간복잡도 문제는 O(n) -> O(sqrt(n))으로 더 효율적으로 보완이 되었지만 시간복잡도는 조금 희생된다."
   ]
  },
  {
   "cell_type": "code",
   "execution_count": 54,
   "metadata": {},
   "outputs": [
    {
     "name": "stdout",
     "output_type": "stream",
     "text": [
      "2097151 : 155611\n",
      "CPU times: user 745 ms, sys: 15.7 ms, total: 761 ms\n",
      "Wall time: 831 ms\n"
     ]
    }
   ],
   "source": [
    "def sieve(n):  # 에라토스테네스의 체\n",
    "    flags = [0, 0] + [1] * (n-1)\n",
    "    for i in range(2, int(n**0.5) + 1):\n",
    "        if flags[i] == 1:\n",
    "            for j in range(i*i, n+1, i):\n",
    "                flags[j] = 0\n",
    "    primes = []\n",
    "    for i in range(len(flags)):\n",
    "        if flags[i] == 1:\n",
    "            primes.append(i)\n",
    "    return primes\n",
    "\n",
    "\n",
    "# 세그먼트 체(Segmented Sieve) 구현\n",
    "def segmented_sieve(n):\n",
    "    ## 1. 초기화 작업\n",
    "    #-------------------------------------------------\n",
    "    primes = []\n",
    "    sqrtn = int(n**0.5)\n",
    "    \n",
    "    seeds = sieve(sqrtn)  # 시드(첫 번째 세그먼트의 소수들)\n",
    "    \n",
    "    low = sqrtn\n",
    "    high = 2*sqrtn - 1\n",
    "    # ------------------------------------------------\n",
    "    \n",
    "    ## 2. 두 번째 ~ 마지막 세그먼트를 반복해서 돌며 처리\n",
    "    # ------------------------------------------------\n",
    "    while low <= n:\n",
    "        \n",
    "        if high > n:  # 마지막 인덱스 보정(마지막 세그먼트의 high 값이 sqrt(n)이 아닐 시 임의로 지정함)\n",
    "            high = n\n",
    "            \n",
    "        flags = [1] * sqrtn  # 실제 메모리에서 공간복잡도에 영향을 끼치는 부분\n",
    "        \n",
    "        ## 2-1. 각각의 세그먼트에서 시드의 배수 거르기\n",
    "        for i in range(len(seeds)):\n",
    "            start = low // seeds[i] * seeds[i]\n",
    "            \n",
    "            if start < low:  # 인덱스 보정\n",
    "                start += seeds[i]\n",
    "                \n",
    "            for j in range(start, high+1, seeds[i]):\n",
    "                flags[j - low] = 0\n",
    "                \n",
    "        ## 2-2. 각각의 세그먼트에서 판별 해놓은 소수만을 리스트(primes)에 추가하기\n",
    "        for i in range(low, high+1):\n",
    "            if flags[i - low] == 1:\n",
    "                primes.append(i)\n",
    "                \n",
    "        low += sqrtn\n",
    "        high += sqrtn\n",
    "    # ------------------------------------------------\n",
    "    return seeds + primes\n",
    "\n",
    "n = 2**21 - 1\n",
    "%time print(f\"{n} : {len(segmented_sieve(n))}\")"
   ]
  },
  {
   "attachments": {},
   "cell_type": "markdown",
   "metadata": {},
   "source": [
    "#### 두 번째 소인수 분해 알고리즘\n",
    "\n",
    "- 에라토스테네스의 체를 응용하여 구현"
   ]
  },
  {
   "cell_type": "code",
   "execution_count": 126,
   "metadata": {},
   "outputs": [
    {
     "name": "stdout",
     "output_type": "stream",
     "text": [
      "360 : {2: 3, 3: 2, 5: 1}\n"
     ]
    }
   ],
   "source": [
    "def add_factor(factors, n):\n",
    "    if n not in factors:\n",
    "        factors[n] = 1\n",
    "    else:\n",
    "        factors[n] += 1\n",
    "    return factors\n",
    "\n",
    "\n",
    "def get_MPF(n, mpf):\n",
    "    if n in mpf:\n",
    "        return mpf[n]\n",
    "    else:\n",
    "        for i in range(2, int(n**0.5) + 1):\n",
    "            if n % i == 0:\n",
    "                mpf[n] = i\n",
    "                return i\n",
    "        mpf[n] = n\n",
    "        return n\n",
    "\n",
    "\n",
    "def factorize_2(n):\n",
    "    mpf = {}  # Minimum Prime Factor\n",
    "    prime_factors = {}\n",
    "    \n",
    "    while n > 1:\n",
    "        mpf_n = get_MPF(n, mpf)\n",
    "        add_factor(prime_factors, mpf_n)\n",
    "        n //= mpf_n\n",
    "        \n",
    "    return prime_factors\n",
    "\n",
    "n = 360\n",
    "print(f\"{n} : {factorize_2(n)}\")"
   ]
  },
  {
   "attachments": {},
   "cell_type": "markdown",
   "metadata": {},
   "source": [
    "- 메르센 소수(두 번째 소인수 분해 알고리즘으로 구현)"
   ]
  },
  {
   "cell_type": "code",
   "execution_count": 202,
   "metadata": {},
   "outputs": [
    {
     "name": "stdout",
     "output_type": "stream",
     "text": [
      "# of Prime : 8\n",
      "실행 시간 : 0.3104s\n"
     ]
    }
   ],
   "source": [
    "import time\n",
    "\n",
    "\n",
    "num_of_prime = 0\n",
    "start = time.time()\n",
    "for i in range(2, 50):\n",
    "    n = 2**i - 1\n",
    "    factorization_2 = factorize_2(n)\n",
    "    is_prime = \"*\" if len(factorization_2) == 1 else \"\"\n",
    "    if is_prime:\n",
    "        num_of_prime += 1\n",
    "    # print(f\"{i}, {n} : {factorization_2} {is_prime}\")\n",
    "end = time.time()\n",
    "print(f\"# of Prime : {num_of_prime}\")\n",
    "print(f\"실행 시간 : {end - start:.4f}s\")"
   ]
  },
  {
   "attachments": {},
   "cell_type": "markdown",
   "metadata": {},
   "source": [
    "#### 쇼어 양자 알고리즘\n",
    "\n",
    "- 기존 까지는 소인수 분해는 다항 시간에는 불가능이라 생각\n",
    "    - 피터 쇼어: \"양자 컴퓨터만 있으면 가능하다.\"\n",
    "        - Shor, Peter W. \"Algorithms for quantum computation: discrete logarithms and factoring.\" Proc. 35th ann. symp. on found. of comp. science. IEEE, 1994\n",
    "- 두 개의 큰 소수로 구성된 합성수의 소인수 분해 문제\n",
    "    - N = p x q 일 때, 매우 큰 소수 p, q에 대해서 소인수 분해가 가능한가?\n",
    "    - 고전 컴퓨터로는 지수시간 복잡도를 극복할 수 없음\n",
    "        - 현재 가장 효율적인 소인수 분해 알고리즘이라고 알려져 있는 GNFS(Ganeral Number Field Sieve)의 지수시간 복잡도는 O(e^1/3n)이다.\n",
    "    - 두 소수의 합성수 N을 이용해서 p, q를 공개키, 비밀키로 사용 -> RSA 암호화\n",
    "    - 기존 소인수 분해는 지수시간(2^b, b = 비트 수)을 극복하지 못 함.\n",
    "        - 만약 다항시간에 소인수 분해가 가능하다면? -> RSA 붕괴 -> 지구 멸망?\n",
    "- 피터 쇼어가 제안한 소인수 분해 알고리즘\n",
    "    - 입력: 합성수 N(N = p x q 이고 p와 q는 소수)\n",
    "    - 출력: N의 소인수 p, q\n",
    "    1. 1보다 크고 N보다 작은 정수 a를 임의로 선택\n",
    "    2. 만일, gcd(N, a) != 1이면, p를 찾은 것이므로, p = gcd(N, a), q = N / gcd(N, a)\n",
    "    3. 함수 f(x) = a^x(mod N)의 주기 r을 찾는다.\n",
    "        - 여기서 찾은 주기 r이 짝수가 아니면, 1번 단계부터 다시 시작한다.\n",
    "    4. 주기 r로부터 두 개의 최대공약수 gcd_1, gcd_2를 찾는다.\n",
    "        - gcd_1 = gcd(N, a^r/2 + 1), gcd_2 = gcd(N, a^r/2 - 1)\n",
    "    5. gcd_1, gcd_2가 1, N이라면 1번 단계부터 다시 시작한다.\n",
    "        - 아니면, 마침내 소인수들을 찾았으므로 p = gcd_1, q = gcd_2 를 리턴한다.\n",
    "- 양자 컴퓨터와 쇼어의 양자 알고리즘\n",
    "    - 쇼어의 알고리즘에서 여전히 지수 시간 복잡도를 가지는 부분\n",
    "        - f(x) = a^x(mod N) 함수의 주기 찾기\n",
    "    - 퀀텀 푸리에 변환(QFT: Quantum Fourier Transform)\n",
    "        - 양자 컴퓨터로 푸리에 변환을 병렬적으로 수행(비트 수와 무관)\n",
    "        - 역푸리에 변환(I-QFT: Inverse-QFT)으로 주기를 찾을 수 있다.\n",
    "    - 쇼어 알고리즘을 수행하기 위한 양자 컴퓨터의 조건\n",
    "        - N의 비트수(b, log2{N}) + I-QFT를 실행하기 위한 비트 수(2b) = 3b개의 큐비트가 필요\n",
    "        - RSA-2048을 깨기 위해서는 6,144 큐비트가 필요함\n",
    "        - 단, 큐비트 수를 줄이기 위한 연구도 진행중"
   ]
  },
  {
   "cell_type": "code",
   "execution_count": 204,
   "metadata": {},
   "outputs": [],
   "source": [
    "import random\n",
    "import math\n",
    "\n",
    "\n",
    "def findPeriodByModPow(N, a):\n",
    "    for x in range(1, N):\n",
    "        if mod_pow(a, x, N) == 1:\n",
    "            return x\n",
    "    return -1\n",
    "\n",
    "\n",
    "def mod_pow(a, x, N):\n",
    "    y = 1\n",
    "    while x > 0:\n",
    "        if x & 1:\n",
    "            y = (y * a) % N\n",
    "        x = x >> 1\n",
    "        a = a**2 % N\n",
    "    return y\n",
    "\n",
    "\n",
    "def factorize_3(N):  # 피터 쇼어의 양자 알고리즘\n",
    "    while 1:\n",
    "        a = random.randint(2, N-1)\n",
    "        gcd = math.gcd(N, a)\n",
    "        \n",
    "        if gcd != 1:\n",
    "            return gcd, N // gcd\n",
    "        \n",
    "        r = findPeriodByModPow(N, a)\n",
    "        if r & 1:\n",
    "            continue\n",
    "        \n",
    "        gcd_1 = math.gcd(N, a**(r//2) + 1)\n",
    "        gcd_2 = math.gcd(N, a**(r//2) - 1)\n",
    "        if gcd_1 == 1 or gcd_2 == 1:\n",
    "            continue\n",
    "        \n",
    "        return gcd_1, gcd_2"
   ]
  },
  {
   "cell_type": "code",
   "execution_count": 205,
   "metadata": {},
   "outputs": [
    {
     "name": "stdout",
     "output_type": "stream",
     "text": [
      "N = 3 x 5\n",
      "실행 시간 : 0.0004420280456542969\n",
      "N = 997 x 991\n",
      "실행 시간 : 0.3494589328765869\n",
      "N = 8191 x 127\n",
      "실행 시간 : 0.04762697219848633\n"
     ]
    }
   ],
   "source": [
    "import time\n",
    "\n",
    "\n",
    "N = [3 * 5, 991 * 997, 8191 * 127]\n",
    "for i in N:\n",
    "    start = time.time()\n",
    "    p, q = factorize_3(i)\n",
    "    print(f\"N = {p} x {q}\")\n",
    "    end = time.time()\n",
    "    print(f\"실행 시간 : {end - start}\")"
   ]
  },
  {
   "cell_type": "code",
   "execution_count": null,
   "metadata": {},
   "outputs": [],
   "source": []
  },
  {
   "cell_type": "code",
   "execution_count": null,
   "metadata": {},
   "outputs": [],
   "source": []
  },
  {
   "cell_type": "code",
   "execution_count": null,
   "metadata": {},
   "outputs": [],
   "source": []
  }
 ],
 "metadata": {
  "kernelspec": {
   "display_name": "base",
   "language": "python",
   "name": "python3"
  },
  "language_info": {
   "codemirror_mode": {
    "name": "ipython",
    "version": 3
   },
   "file_extension": ".py",
   "mimetype": "text/x-python",
   "name": "python",
   "nbconvert_exporter": "python",
   "pygments_lexer": "ipython3",
   "version": "3.8.16"
  },
  "orig_nbformat": 4
 },
 "nbformat": 4,
 "nbformat_minor": 2
}
