{
 "cells": [
  {
   "cell_type": "markdown",
   "metadata": {},
   "source": [
    "# 깊이 우선 탐색(DFS, Depth-First Search)"
   ]
  },
  {
   "cell_type": "code",
   "execution_count": null,
   "metadata": {},
   "outputs": [],
   "source": []
  },
  {
   "cell_type": "code",
   "execution_count": 7,
   "metadata": {},
   "outputs": [
    {
     "data": {
      "text/plain": [
       "3"
      ]
     },
     "execution_count": 7,
     "metadata": {},
     "output_type": "execute_result"
    }
   ],
   "source": [
    "def dfs(x, y, n, m, graph):\n",
    "    if x < 0 or x > n-1 or y < 0 or y > m-1:\n",
    "        return False\n",
    "    if graph[x][y] == 0:\n",
    "        graph[x][y] = 1\n",
    "        dfs(x-1, y, n, m, graph)\n",
    "        dfs(x, y-1, n, m, graph)\n",
    "        dfs(x+1, y, n, m, graph)\n",
    "        dfs(x, y+1, n, m, graph)\n",
    "        return True\n",
    "    return False\n",
    "\n",
    "def dfs_solution(graph, n, m):\n",
    "    answer = 0\n",
    "    for i in range(n):\n",
    "        for j in range(m):\n",
    "            if dfs(i, j, n, m, graph) == True:\n",
    "                answer += 1\n",
    "    return answer\n",
    "\n",
    "dfs_solution([[0,0,1,1,0],[0,0,0,1,1],[1,1,1,1,1],[0,0,0,0,0]], 4, 5)"
   ]
  },
  {
   "cell_type": "code",
   "execution_count": null,
   "metadata": {},
   "outputs": [],
   "source": [
    "# DFS 메서드 정의\n",
    "def dfs (graph, node, visited):\n",
    "    # 해당 노드를 방문 처리\n",
    "    visited[node] = True\n",
    "    # 탐색 순서 출력\n",
    "    print(node, end = ' ')\n",
    "    # 한 노드로부터 인접한 다른 노드를 재귀적으로 방문 처리\n",
    "    for i in graph[node]:\n",
    "        if not visited[i]:\n",
    "            dfs(graph, i, visited)\n",
    "            \n",
    "graph = [\n",
    "    [],\n",
    "    [2, 3],\n",
    "    [1, 8],\n",
    "    [1, 4, 5],\n",
    "    [3, 5],\n",
    "    [3, 4],\n",
    "    [7, 8],\n",
    "    [6, 8],\n",
    "    [2, 6, 7]\n",
    "]\n",
    "\n",
    "# 노드별로 방문 정보를 리스트로 표현\n",
    "visited = [False] * 9\n",
    "\n",
    "# 정의한 DFS 메서드 호출(노드 1을 탐색 시작 노드로 설정)\n",
    "dfs(graph, 1, visited)"
   ]
  },
  {
   "cell_type": "code",
   "execution_count": null,
   "metadata": {},
   "outputs": [],
   "source": []
  }
 ],
 "metadata": {
  "kernelspec": {
   "display_name": "base",
   "language": "python",
   "name": "python3"
  },
  "language_info": {
   "codemirror_mode": {
    "name": "ipython",
    "version": 3
   },
   "file_extension": ".py",
   "mimetype": "text/x-python",
   "name": "python",
   "nbconvert_exporter": "python",
   "pygments_lexer": "ipython3",
   "version": "3.8.16"
  },
  "orig_nbformat": 4
 },
 "nbformat": 4,
 "nbformat_minor": 2
}
