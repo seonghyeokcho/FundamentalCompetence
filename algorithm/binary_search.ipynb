{
 "cells": [
  {
   "cell_type": "markdown",
   "metadata": {},
   "source": [
    "#### binary search(이진 탐색)\n",
    "- Time Complexity: O(logn)"
   ]
  },
  {
   "cell_type": "code",
   "execution_count": 1,
   "metadata": {},
   "outputs": [
    {
     "name": "stdout",
     "output_type": "stream",
     "text": [
      "173 µs ± 10.9 µs per loop (mean ± std. dev. of 7 runs, 10,000 loops each)\n"
     ]
    }
   ],
   "source": [
    "# linear search(선형 탐색) - 이진 탐색 알고리즘과의 비교를 위한 예시\n",
    "def linear_search(array, k):\n",
    "    # O(n)\n",
    "    # n(array의 길이)이 10000일 때, k = 7800 이라면 7800번 걸림(최악의 경우 k = n 이라면 n번 걸림)\n",
    "    for i in array:\n",
    "        if i == k:\n",
    "            return i+1\n",
    "\n",
    "a = list(range(10000))\n",
    "%timeit linear_search(a, 7800)"
   ]
  },
  {
   "cell_type": "code",
   "execution_count": 47,
   "metadata": {},
   "outputs": [
    {
     "name": "stdout",
     "output_type": "stream",
     "text": [
      "0 5000 9999\n",
      "5001 2499 9999\n",
      "7501 1249 9999\n",
      "7501 624 8749\n",
      "7501 312 8124\n",
      "7501 156 7812\n",
      "7501 78 7656\n",
      "7501 39 7578\n",
      "7501 19 7539\n",
      "7501 9 7519\n",
      "7501 4 7509\n",
      "7501 2 7504\n",
      "7501 1 7502\n",
      "CPU times: user 706 µs, sys: 116 µs, total: 822 µs\n",
      "Wall time: 834 µs\n"
     ]
    },
    {
     "data": {
      "text/plain": [
       "(7502, 13)"
      ]
     },
     "execution_count": 47,
     "metadata": {},
     "output_type": "execute_result"
    }
   ],
   "source": [
    "# 직접 구현해본 이진 탐색 알고리즘\n",
    "def binary_search(array, k):\n",
    "    # O(logn)\n",
    "    # n(array의 길이)이 10000일 때, 13번 안에 원하는 수 k를 찾음(최악의 경우 14번째에 찾음)\n",
    "    for i in array:\n",
    "        mid = len(array)//2\n",
    "        print(array[0], mid, array[-1])\n",
    "        if array[mid] < k:\n",
    "            array = array[mid+1:]\n",
    "        elif array[len(array)//2] > k:\n",
    "            array = array[:mid]\n",
    "        else:\n",
    "            return k, i+1\n",
    "\n",
    "a = list(range(10000))\n",
    "%time binary_search(a, 7502)"
   ]
  },
  {
   "cell_type": "code",
   "execution_count": 36,
   "metadata": {},
   "outputs": [
    {
     "name": "stdout",
     "output_type": "stream",
     "text": [
      "1 5000 10000\n",
      "5001 7500 10000\n",
      "7501 8750 10000\n",
      "7501 8125 8749\n",
      "7501 7812 8124\n",
      "7501 7656 7811\n",
      "7501 7578 7655\n",
      "7501 7539 7577\n",
      "7501 7519 7538\n",
      "7501 7509 7518\n",
      "7501 7504 7508\n",
      "7501 7502 7503\n",
      "CPU times: user 825 µs, sys: 677 µs, total: 1.5 ms\n",
      "Wall time: 1.08 ms\n"
     ]
    },
    {
     "data": {
      "text/plain": [
       "(7502, 12)"
      ]
     },
     "execution_count": 36,
     "metadata": {},
     "output_type": "execute_result"
    }
   ],
   "source": [
    "def binSearch(S, x):\n",
    "    low = 1\n",
    "    high = len(S)\n",
    "    for i in range(len(S)):\n",
    "        mid = (low + high) // 2\n",
    "        print(low, mid, high)\n",
    "        if x == S[mid]:\n",
    "            return mid, i+1\n",
    "        elif x < S[mid]:\n",
    "            high = mid - 1\n",
    "        else:\n",
    "            low = mid + 1\n",
    "    return -1\n",
    "\n",
    "a = list(range(10000))\n",
    "%time binSearch(a, 7502)"
   ]
  },
  {
   "cell_type": "code",
   "execution_count": 7,
   "metadata": {},
   "outputs": [
    {
     "name": "stdout",
     "output_type": "stream",
     "text": [
      "0 1 1 2 3 5 8 13 21 34 55 "
     ]
    }
   ],
   "source": [
    "def fib2(n):\n",
    "    f = [0] * (n+1)\n",
    "    if n > 0:\n",
    "        f[1] = 1\n",
    "        for i in range(2, n+1):\n",
    "            f[i] = f[i-1] + f[i-2]\n",
    "    return f[n]\n",
    "\n",
    "for i in range(11):\n",
    "    print(fib2(i), end=\" \")"
   ]
  },
  {
   "cell_type": "code",
   "execution_count": null,
   "metadata": {},
   "outputs": [],
   "source": []
  },
  {
   "cell_type": "code",
   "execution_count": null,
   "metadata": {},
   "outputs": [],
   "source": []
  }
 ],
 "metadata": {
  "kernelspec": {
   "display_name": "Python 3.8.13 ('base')",
   "language": "python",
   "name": "python3"
  },
  "language_info": {
   "codemirror_mode": {
    "name": "ipython",
    "version": 3
   },
   "file_extension": ".py",
   "mimetype": "text/x-python",
   "name": "python",
   "nbconvert_exporter": "python",
   "pygments_lexer": "ipython3",
   "version": "3.8.16"
  },
  "orig_nbformat": 4,
  "vscode": {
   "interpreter": {
    "hash": "38cc0cca68228d4d18227abe74ed813685db17db46984279e4aabdddebf5f1ba"
   }
  }
 },
 "nbformat": 4,
 "nbformat_minor": 2
}
