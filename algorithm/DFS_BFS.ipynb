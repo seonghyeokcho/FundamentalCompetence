{
 "cells": [
  {
   "cell_type": "code",
   "execution_count": null,
   "metadata": {},
   "outputs": [],
   "source": []
  },
  {
   "cell_type": "code",
   "execution_count": 7,
   "metadata": {},
   "outputs": [
    {
     "data": {
      "text/plain": [
       "3"
      ]
     },
     "execution_count": 7,
     "metadata": {},
     "output_type": "execute_result"
    }
   ],
   "source": [
    "def dfs(x, y, n, m, graph):\n",
    "    if x < 0 or x > n-1 or y < 0 or y > m-1:\n",
    "        return False\n",
    "    if graph[x][y] == 0:\n",
    "        graph[x][y] = 1\n",
    "        dfs(x-1, y, n, m, graph)\n",
    "        dfs(x, y-1, n, m, graph)\n",
    "        dfs(x+1, y, n, m, graph)\n",
    "        dfs(x, y+1, n, m, graph)\n",
    "        return True\n",
    "    return False\n",
    "\n",
    "def dfs_solution(graph, n, m):\n",
    "    answer = 0\n",
    "    for i in range(n):\n",
    "        for j in range(m):\n",
    "            if dfs(i, j, n, m, graph) == True:\n",
    "                answer += 1\n",
    "    return answer\n",
    "\n",
    "dfs_solution([[0,0,1,1,0],[0,0,0,1,1],[1,1,1,1,1],[0,0,0,0,0]], 4, 5)"
   ]
  },
  {
   "cell_type": "code",
   "execution_count": null,
   "metadata": {},
   "outputs": [],
   "source": [
    "# DFS 메서드 정의\n",
    "def dfs (graph, node, visited):\n",
    "    # 해당 노드를 방문 처리\n",
    "    visited[node] = True\n",
    "    # 탐색 순서 출력\n",
    "    print(node, end = ' ')\n",
    "    # 한 노드로부터 인접한 다른 노드를 재귀적으로 방문 처리\n",
    "    for i in graph[node]:\n",
    "        if not visited[i]:\n",
    "            dfs(graph, i, visited)\n",
    "            \n",
    "graph = [\n",
    "    [],\n",
    "    [2, 3],\n",
    "    [1, 8],\n",
    "    [1, 4, 5],\n",
    "    [3, 5],\n",
    "    [3, 4],\n",
    "    [7, 8],\n",
    "    [6, 8],\n",
    "    [2, 6, 7]\n",
    "]\n",
    "\n",
    "# 노드별로 방문 정보를 리스트로 표현\n",
    "visited = [False] * 9\n",
    "\n",
    "# 정의한 DFS 메서드 호출(노드 1을 탐색 시작 노드로 설정)\n",
    "dfs(graph, 1, visited)"
   ]
  },
  {
   "cell_type": "code",
   "execution_count": null,
   "metadata": {},
   "outputs": [],
   "source": []
  },
  {
   "cell_type": "code",
   "execution_count": 1,
   "metadata": {},
   "outputs": [
    {
     "data": {
      "text/plain": [
       "10"
      ]
     },
     "execution_count": 1,
     "metadata": {},
     "output_type": "execute_result"
    }
   ],
   "source": [
    "from collections import deque\n",
    "\n",
    "\n",
    "def bfs_solution(graph, n, m):\n",
    "    dx = [-1, 1, 0, 0]\n",
    "    dy = [0, 0, -1, 1]\n",
    "    \n",
    "    queue = deque()\n",
    "    queue.append((0, 0))\n",
    "    \n",
    "    while queue:\n",
    "        x, y = queue.popleft()\n",
    "        for i in range(4):\n",
    "            nx = x + dx[i]\n",
    "            ny = y + dy[i]\n",
    "            if nx < 0 or nx > n-1 or ny < 0 or ny > m-1:\n",
    "                continue\n",
    "            if graph[nx][ny] == 0:\n",
    "                continue\n",
    "            if graph[nx][ny] == 1:\n",
    "                graph[nx][ny] = graph[x][y] + 1\n",
    "                queue.append((nx, ny))\n",
    "    return graph[n-1][m-1]\n",
    "\n",
    "bfs_solution([[1,0,1,0,1,0],[1,1,1,1,1,1],[0,0,0,0,0,1],[1,1,1,1,1,1],[1,1,1,1,1,1]], 5, 6)"
   ]
  },
  {
   "cell_type": "code",
   "execution_count": null,
   "metadata": {},
   "outputs": [],
   "source": [
    "# deque 라이브러리 불러오기\n",
    "from collections import deque\n",
    "\n",
    "# BFS 메서드 정의\n",
    "def bfs (graph, node, visited):\n",
    "    # 큐 구현을 위한 deque 라이브러리 활용\n",
    "    queue = deque([node])\n",
    "    # 현재 노드를 방문 처리\n",
    "    visited[node] = True\n",
    "    \n",
    "    # 큐가 완전히 빌 때까지 반복\n",
    "    while queue:\n",
    "        # 큐에 삽입된 순서대로 노드 하나 꺼내기\n",
    "        v = queue.popleft()\n",
    "        # 탐색 순서 출력\n",
    "        print(v, end = ' ')\n",
    "        # 현재 처리 중인 노드에서 방문하지 않은 인접 노드를 모두 큐에 삽입\n",
    "        for i in graph[v]:\n",
    "            if not (visited[i]):\n",
    "                queue.append(i)\n",
    "                visited[i] = True\n",
    "                \n",
    "graph = [\n",
    "    [],\n",
    "    [2, 3],\n",
    "    [1, 8],\n",
    "    [1, 4, 5],\n",
    "    [3, 5],\n",
    "    [3, 4],\n",
    "    [7, 8],\n",
    "    [6, 8],\n",
    "    [2, 6, 7]\n",
    "]\n",
    "\n",
    "# 노드별로 방문 정보를 리스트로 표현\n",
    "visited = [False] * 9\n",
    "\n",
    "# 정의한 BFS 메서드 호출(노드 1을 탐색 시작 노드로 설정)\n",
    "bfs(graph, 1, visited)"
   ]
  }
 ],
 "metadata": {
  "kernelspec": {
   "display_name": "base",
   "language": "python",
   "name": "python3"
  },
  "language_info": {
   "codemirror_mode": {
    "name": "ipython",
    "version": 3
   },
   "file_extension": ".py",
   "mimetype": "text/x-python",
   "name": "python",
   "nbconvert_exporter": "python",
   "pygments_lexer": "ipython3",
   "version": "3.8.16"
  },
  "orig_nbformat": 4
 },
 "nbformat": 4,
 "nbformat_minor": 2
}
