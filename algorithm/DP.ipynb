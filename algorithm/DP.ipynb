{
 "cells": [
  {
   "cell_type": "markdown",
   "metadata": {},
   "source": [
    "## 동적 프로그래밍(DP, Dynamic Programming)"
   ]
  },
  {
   "cell_type": "code",
   "execution_count": null,
   "metadata": {},
   "outputs": [],
   "source": []
  },
  {
   "cell_type": "code",
   "execution_count": null,
   "metadata": {},
   "outputs": [],
   "source": [
    "# 재귀 함수를 활용한 피보나치 함수 구현, O(2^n)\n",
    "def fibo (x):\n",
    "    # 종료 조건 (전달인자가 1 또는 2일 때 1을 반환)\n",
    "    if x == 1 or x == 2:\n",
    "        return 1\n",
    "    return fibo(x-1) + fibo(x-2)\n",
    "\n",
    "n = 30  # O(2^30) = 약 10억\n",
    "%time print(\"fibo({}) = {}\".format(n, fibo(n)))"
   ]
  },
  {
   "cell_type": "markdown",
   "metadata": {},
   "source": [
    "#### 다이나믹 프로그래밍 기반 구현"
   ]
  },
  {
   "cell_type": "markdown",
   "metadata": {},
   "source": [
    "- 탑 다운 방식\n",
    "    - 재귀함수 활용\n",
    "    - 메모이제이션(Memoization) 기법"
   ]
  },
  {
   "cell_type": "code",
   "execution_count": 42,
   "metadata": {},
   "outputs": [
    {
     "name": "stdout",
     "output_type": "stream",
     "text": [
      "fibo(30): 832040\n",
      "37 ns ± 3.9 ns per loop (mean ± std. dev. of 7 runs, 10,000,000 loops each)\n"
     ]
    }
   ],
   "source": [
    "# 탑 다운 다이나믹 프로그래밍 기법과 재귀 함수를 활용한 피보나치 수열 구현, O(n)\n",
    "def fibo_topDown(x):\n",
    "    # 계산된 결과를 memoization 하기 위해 리스트 초기화\n",
    "    d = [0] * (x+1)\n",
    "    \n",
    "    # 종료 조건 (전달인자가 1 또는 2일 때 1을 반환)\n",
    "    if x == 1 or x == 2:\n",
    "        return 1\n",
    "    \n",
    "    # 계산된 결괏값이 존재할 경우 해당 결과값 반환\n",
    "    if d[x] != 0:\n",
    "        return d[x]\n",
    "        \n",
    "    # 계산된 결괏값이 존재하지 않을 경우 피보나치 수열의 결과를 반환\n",
    "    d[x] = fibo_topDown(x-1) + fibo_topDown(x-2)\n",
    "    return d[x]\n",
    "\n",
    "n = 30\n",
    "print(\"fibo({}): {}\".format(n, fibo_topDown(n)))\n",
    "%timeit fibo_topDown"
   ]
  },
  {
   "cell_type": "markdown",
   "metadata": {},
   "source": [
    "- 바텀 업 방식\n",
    "    - 반복문 활용\n",
    "    - 메모이제이션(Memoization) 활용"
   ]
  },
  {
   "cell_type": "code",
   "execution_count": 34,
   "metadata": {},
   "outputs": [
    {
     "name": "stdout",
     "output_type": "stream",
     "text": [
      "fibo(100): 354224848179261915075\n",
      "19 µs ± 957 ns per loop (mean ± std. dev. of 7 runs, 100,000 loops each)\n"
     ]
    }
   ],
   "source": [
    "def fibo_bottomUp(x):\n",
    "    # 계산된 결과를 memoization 하기 위해 리스트 초기화\n",
    "    d = [0] * (x+1)\n",
    "\n",
    "    d[1] = 1 # a_1 = 1\n",
    "    d[2] = 1 # a_2 = 1\n",
    "\n",
    "    # 바텀 업 다이나믹 프로그래밍 기법과 반복문을 활용한 피보나치 수열 구현, O(n)\n",
    "    for i in range(3, n+1):\n",
    "        d[i] = d[i-1] + d[i-2]\n",
    "    return d[x]\n",
    "\n",
    "n = 100\n",
    "print(\"fibo({}): {}\".format(n, fibo_bottomUp(n)))\n",
    "%timeit fibo_bottomUp(n)"
   ]
  },
  {
   "cell_type": "code",
   "execution_count": 51,
   "metadata": {},
   "outputs": [
    {
     "name": "stdout",
     "output_type": "stream",
     "text": [
      "f(0) = 0\n",
      "f(1) = 1\n",
      "f(2) = 1\n",
      "f(3) = 2\n",
      "f(4) = 3\n",
      "f(5) = 5\n",
      "f(6) = 8\n",
      "f(7) = 13\n",
      "f(8) = 21\n",
      "f(9) = 34\n",
      "f(10) = 55\n",
      "f(11) = 89\n",
      "f(12) = 144\n",
      "f(13) = 233\n",
      "f(14) = 377\n",
      "f(15) = 610\n",
      "f(16) = 987\n",
      "f(17) = 1597\n",
      "f(18) = 2584\n",
      "f(19) = 4181\n",
      "f(20) = 6765\n",
      "f(21) = 10946\n",
      "f(22) = 17711\n",
      "f(23) = 28657\n",
      "f(24) = 46368\n",
      "f(25) = 75025\n",
      "f(26) = 121393\n",
      "f(27) = 196418\n",
      "f(28) = 317811\n",
      "f(29) = 514229\n",
      "f(30) = 832040\n",
      "f(31) = 1346269\n",
      "f(32) = 2178309\n",
      "f(33) = 3524578\n",
      "f(34) = 5702887\n",
      "f(35) = 9227465\n",
      "f(36) = 14930352\n",
      "f(37) = 24157817\n",
      "f(38) = 39088169\n",
      "f(39) = 63245986\n",
      "f(40) = 102334155\n"
     ]
    }
   ],
   "source": [
    "def fibo_bottomUpV2(n):\n",
    "    f = [0, 1] + [0] * n\n",
    "    for i in range(2, n+1):\n",
    "        f[i] = f[i-1] + f[i-2]\n",
    "    return f[n]\n",
    "\n",
    "for i in range(41):\n",
    "    print(f\"f({i}) = {fibo_bottomUpV2(i)}\")"
   ]
  },
  {
   "cell_type": "markdown",
   "metadata": {},
   "source": [
    "### 응용: 피보나치 수 - 백준 저지 1003번 문제"
   ]
  },
  {
   "cell_type": "code",
   "execution_count": 52,
   "metadata": {},
   "outputs": [
    {
     "name": "stdout",
     "output_type": "stream",
     "text": [
      "1 0\n",
      "0 1\n",
      "1 1\n",
      "1 2\n",
      "2 3\n",
      "3 5\n"
     ]
    }
   ],
   "source": [
    "def fibo(N):\n",
    "    zeros = [1, 0, 1]\n",
    "    ones = [0, 1, 1]\n",
    "    if N >= 3:\n",
    "        for i in range(2, N):\n",
    "            zeros.append(zeros[i] + zeros[i-1])\n",
    "            ones.append(ones[i] + ones[i-1])\n",
    "    print(f\"{zeros[N]} {ones[N]}\")\n",
    "\n",
    "# T = int(input())\n",
    "for N in [0, 1, 2, 3, 4, 5]:\n",
    "    # N = int(input())\n",
    "    fibo(N)"
   ]
  },
  {
   "cell_type": "code",
   "execution_count": 25,
   "metadata": {},
   "outputs": [
    {
     "name": "stdout",
     "output_type": "stream",
     "text": [
      "7778742049 12586269025\n"
     ]
    }
   ],
   "source": [
    "T = int(input())\n",
    "for case in range(T):\n",
    "    zero, one = 1, 0\n",
    "    N = int(input())\n",
    "    for _ in range(N):\n",
    "        zero, one = one, zero + one\n",
    "    print(zero, one)"
   ]
  },
  {
   "cell_type": "code",
   "execution_count": 35,
   "metadata": {},
   "outputs": [
    {
     "name": "stdout",
     "output_type": "stream",
     "text": [
      "6.37 µs ± 429 ns per loop (mean ± std. dev. of 7 runs, 100,000 loops each)\n"
     ]
    }
   ],
   "source": [
    "def fiboV2(N):\n",
    "    zero, one = 1, 0\n",
    "    for _ in range(N):\n",
    "        zero, one = one, zero + one\n",
    "    return zero, one\n",
    "\n",
    "%timeit fiboV2(100)"
   ]
  },
  {
   "cell_type": "code",
   "execution_count": null,
   "metadata": {},
   "outputs": [],
   "source": []
  }
 ],
 "metadata": {
  "kernelspec": {
   "display_name": "base",
   "language": "python",
   "name": "python3"
  },
  "language_info": {
   "codemirror_mode": {
    "name": "ipython",
    "version": 3
   },
   "file_extension": ".py",
   "mimetype": "text/x-python",
   "name": "python",
   "nbconvert_exporter": "python",
   "pygments_lexer": "ipython3",
   "version": "3.10.9"
  },
  "orig_nbformat": 4
 },
 "nbformat": 4,
 "nbformat_minor": 2
}
