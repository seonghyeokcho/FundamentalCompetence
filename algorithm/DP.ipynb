{
 "cells": [
  {
   "cell_type": "markdown",
   "metadata": {},
   "source": [
    "# 동적 프로그래밍(DP, Dynamic Programming)"
   ]
  },
  {
   "cell_type": "code",
   "execution_count": null,
   "metadata": {},
   "outputs": [],
   "source": []
  },
  {
   "cell_type": "code",
   "execution_count": null,
   "metadata": {},
   "outputs": [],
   "source": [
    "def fib2(n):\n",
    "    f = [0] * (n+1)\n",
    "    if n > 0:\n",
    "        f[1] = 1\n",
    "        for i in range(2, n+1):\n",
    "            f[i] = f[i-1] + f[i-2]\n",
    "    return f[n]\n",
    "\n",
    "for i in range(11):\n",
    "    print(fib2(i), end=\" \")"
   ]
  },
  {
   "cell_type": "code",
   "execution_count": null,
   "metadata": {},
   "outputs": [],
   "source": [
    "# 재귀 함수를 활용한 피보나치 함수 구현, O(2^n)\n",
    "def fibo (x):\n",
    "    # 종료 조건 (전달인자가 1 또는 2일 때 1을 반환)\n",
    "    if x == 1 or x == 2:\n",
    "        return 1\n",
    "    return fibo(x-1) + fibo(x-2)\n",
    "\n",
    "n = 30  # O(2^30) = 약 10억\n",
    "%time print(\"fibo({}) = {}\".format(n, fibo(n)))"
   ]
  },
  {
   "cell_type": "markdown",
   "metadata": {},
   "source": [
    "#### 다이나믹 프로그래밍 기반 구현"
   ]
  },
  {
   "cell_type": "markdown",
   "metadata": {},
   "source": [
    "- 탑 다운 방식\n",
    "    - 재귀함수 활용\n",
    "    - 메모이제이션(Memoization) 기법"
   ]
  },
  {
   "cell_type": "code",
   "execution_count": null,
   "metadata": {},
   "outputs": [],
   "source": [
    "# 계산된 결과를 memoization 하기 위해 리스트 초기화\n",
    "d = [0] * 100\n",
    "\n",
    "# 탑 다운 다이나믹 프로그래밍 기법과 재귀 함수를 활용한 피보나치 수열 구현, O(n)\n",
    "def fibo (x):\n",
    "    # 종료 조건 (전달인자가 1 또는 2일 때 1을 반환)\n",
    "    if x == 1 or x == 2:\n",
    "        return 1\n",
    "    \n",
    "    # 계산된 결괏값이 존재할 경우 해당 결과값 반환\n",
    "    if d[x] != 0:\n",
    "        return d[x]\n",
    "        \n",
    "    # 계산된 결괏값이 존재하지 않을 경우 피보나치 수열의 결과를 반환\n",
    "    d[x] = fibo(x-1) + fibo(x-2)\n",
    "    return d[x]\n",
    "\n",
    "n = 99\n",
    "%time print(\"fibo({}): {}\".format(n, fibo(n)))"
   ]
  },
  {
   "cell_type": "markdown",
   "metadata": {},
   "source": [
    "- 바텀 업 방식\n",
    "    - 반복문 활용\n",
    "    - 메모이제이션(Memoization) 활용"
   ]
  },
  {
   "cell_type": "code",
   "execution_count": null,
   "metadata": {},
   "outputs": [],
   "source": [
    "# 계산된 결과를 memoization 하기 위해 리스트 초기화\n",
    "d = [0] * 100\n",
    "\n",
    "d[1] = 1 # a_1 = 1\n",
    "d[2] = 1 # a_2 = 1\n",
    "\n",
    "# 바텀 업 다이나믹 프로그래밍 기법과 반복문을 활용한 피보나치 수열 구현, O(n)\n",
    "for i in range(3, n+1):\n",
    "    d[i] = d[i-1] + d[i-2]\n",
    "\n",
    "n = 99\n",
    "%time print(\"fibo({}): {}\".format(n, fibo(n)))"
   ]
  },
  {
   "cell_type": "code",
   "execution_count": null,
   "metadata": {},
   "outputs": [],
   "source": []
  }
 ],
 "metadata": {
  "language_info": {
   "name": "python"
  },
  "orig_nbformat": 4
 },
 "nbformat": 4,
 "nbformat_minor": 2
}
