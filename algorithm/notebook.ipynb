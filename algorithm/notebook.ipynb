{
 "cells": [
  {
   "cell_type": "markdown",
   "metadata": {},
   "source": [
    "### 해싱"
   ]
  },
  {
   "cell_type": "markdown",
   "metadata": {},
   "source": [
    "#### Direct Access Array(직접 접근 배열)"
   ]
  },
  {
   "cell_type": "code",
   "execution_count": 22,
   "metadata": {},
   "outputs": [
    {
     "name": "stdout",
     "output_type": "stream",
     "text": [
      "Hello\n",
      "World\n",
      "World\n",
      "World\n",
      "None\n",
      "None\n"
     ]
    }
   ],
   "source": [
    "class DirectAccessArray:\n",
    "    def __init__(self, u):\n",
    "        self.array = [None] * u\n",
    "    \n",
    "    def find(self, key):\n",
    "        return self.array[key]\n",
    "    \n",
    "    def insert(self, key, x):\n",
    "        self.array[key] = x\n",
    "    \n",
    "    def delete(self, key):\n",
    "        self.array[key] = None\n",
    "    \n",
    "    def find_next(self, key):\n",
    "        for i in range(key + 1, len(self.array)):\n",
    "            if self.array[i] is not None:\n",
    "                return self.array[i]\n",
    "    \n",
    "    def find_max(self):\n",
    "        for i in range(len(self.array) - 1, -1, -1):\n",
    "            if self.array[i] is not None:\n",
    "                return self.array[i]\n",
    "    \n",
    "    def delete_max(self):\n",
    "        for i in range(len(self.array) - 1, -1, -1):\n",
    "            x = self.array[i]\n",
    "            if x is not None:\n",
    "                self.array[i] = None\n",
    "                return x\n",
    "\n",
    "A = DirectAccessArray(10)  # 배열의 크기를 지정(할당)하여 초기화\n",
    "A.insert(1, \"Hello\")  # key(1)에 \"Hello\"를 대응시켜 삽입\n",
    "print(A.find(1))  # key(1)에 해당하는 항목 찾기\n",
    "A.insert(3, \"World\")  # key(3)에 \"World\"를 대응시켜 삽입\n",
    "print(A.find_next(1))  # key(1)의 다음 항목 중 None이 아닌 첫 번째 항목 찾기\n",
    "print(A.find_max())  # 가장 큰 key에 해당하는 항목 찾기\n",
    "print(A.delete_max())  # None이 아닌 항목 중 가장 큰 key에 대응되는 항목을 제거 후 해당 항목을 반환\n",
    "A.delete(1)  # key(1)에 대응되는 항목을 제거\n",
    "print(A.find(1))\n",
    "print(A.find(3))"
   ]
  },
  {
   "cell_type": "markdown",
   "metadata": {},
   "source": [
    "#### 백준 저지"
   ]
  },
  {
   "cell_type": "code",
   "execution_count": null,
   "metadata": {},
   "outputs": [
    {
     "data": {
      "text/plain": [
       "(29, 126)"
      ]
     },
     "metadata": {},
     "output_type": "display_data"
    }
   ],
   "source": [
    "BOJ_io = [2557, 1000, 2558, 10950, 10951, 10952, 10953, 11021, 11022, 11718, 11719, 11720, 11721, 2741, 2742, 2739, 1924, 8393, 10818, 2438, 2439, 2440, 2441, 2442, 2445, 2522, 2446, 10991, 10992]\n",
    "BOJ_DP = [1463, 11726, 11727, 9095, 10844, 11057, 2193, 9465, 2156, 11053, 11055, 11722, 11054, 1912, 2579, 1699, 2133, 9461, 2225, 2011, 11052]\n",
    "BOJ_others = [2751, 11650, 11651, 10814, 10825, 10989, 11652, 11004, 10828, 9012, 10799, 10845, 10866, 10808, 10809, 10820, 2743, 11655, 10824, 11656, 1406, 1158, 1168, 10430, 2609, 1934, 1850, 9613, 11005, 2745, 1373, 1212, 2089, 11576, 1978, 1929, 6588, 11653, 10872, 1676, 2004]\n",
    "BOJ_graph = [1260, 11724, 1707, 10451, 2331, 9466, 2667, 4963, 7576, 2178, 2146, 1991, 11725, 1167, 1967]\n",
    "BOJ_binary_search = [1654, 2805, 2110, 10815, 10816, 11662]\n",
    "BOJ_divide_and_conquer = [11728, 1780, 11729, 1992, 2447, 2448, 1517, 2261]\n",
    "BOJ_greedy = [11047, 2875, 10610, 1783, 1931, 11399, 2873, 1744]\n",
    "BOJ_exhaustive_search = [1476, 1107, 1451, 9095, 10819, 10971, 1697, 1963, 9019, 1525, 2251, 2186, 3108, 5014, 1759, 2580, 1987, 6603, 1182, 2003, 1806, 1644, 1261, 1208, 7453, 2632, 2143]\n",
    "\n",
    "len(BOJ_io), len(BOJ_DP)+len(BOJ_others)+len(BOJ_graph)+len(BOJ_binary_search)+len(BOJ_divide_and_conquer)+len(BOJ_greedy)+len(BOJ_exhaustive_search)"
   ]
  },
  {
   "cell_type": "code",
   "execution_count": null,
   "metadata": {},
   "outputs": [],
   "source": []
  },
  {
   "cell_type": "code",
   "execution_count": null,
   "metadata": {},
   "outputs": [],
   "source": []
  },
  {
   "cell_type": "code",
   "execution_count": null,
   "metadata": {},
   "outputs": [],
   "source": []
  },
  {
   "cell_type": "code",
   "execution_count": null,
   "metadata": {},
   "outputs": [],
   "source": []
  },
  {
   "cell_type": "code",
   "execution_count": null,
   "metadata": {},
   "outputs": [],
   "source": []
  }
 ],
 "metadata": {
  "kernelspec": {
   "display_name": "Python 3.8.13 ('base')",
   "language": "python",
   "name": "python3"
  },
  "language_info": {
   "codemirror_mode": {
    "name": "ipython",
    "version": 3
   },
   "file_extension": ".py",
   "mimetype": "text/x-python",
   "name": "python",
   "nbconvert_exporter": "python",
   "pygments_lexer": "ipython3",
   "version": "3.10.13"
  },
  "orig_nbformat": 4,
  "vscode": {
   "interpreter": {
    "hash": "38cc0cca68228d4d18227abe74ed813685db17db46984279e4aabdddebf5f1ba"
   }
  }
 },
 "nbformat": 4,
 "nbformat_minor": 2
}
