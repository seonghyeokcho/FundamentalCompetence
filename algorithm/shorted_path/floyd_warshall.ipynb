{
 "cells": [
  {
   "cell_type": "markdown",
   "metadata": {},
   "source": [
    "# 플로이드 워셜(Floyd-Warwhall) 알고리즘"
   ]
  },
  {
   "cell_type": "code",
   "execution_count": null,
   "metadata": {},
   "outputs": [],
   "source": []
  },
  {
   "cell_type": "code",
   "execution_count": null,
   "metadata": {},
   "outputs": [],
   "source": [
    "# '무한'을 의미하는 값을 10억으로 초기화\n",
    "INF = int(1e9)\n",
    "\n",
    "# 노드와 간선의 개수를 입력 받기\n",
    "num_node = 4\n",
    "# num_node = int(input(\"노드의 개수를 입력하세요: \"))\n",
    "# num_edge = int(input(\"간선의 개수를 입력하세요: \"))\n",
    "\n",
    "# 최단 거리 테이블 역할의 2차원 리스트를 생성하고 모든 값을 '무한'으로 초기화\n",
    "# 2차원 리스트의 인덱스와 노드 번호를 일치시키기 위해 행, 열의 개수를 1개씩 추가\n",
    "min_dist_table = [[INF]*(num_node+1) for _ in range(num_node+1)]\n",
    "\n",
    "# 자기 자신으로 가는 거리는 0이므로 대각행렬 0으로 초기화\n",
    "for a in range(1, num_node + 1):\n",
    "    for b in range(1, num_node + 1):\n",
    "        if a == b:\n",
    "            min_dist_table[a][b] = 0\n",
    "   \n",
    "edges = [\"1 2 2\", \"1 3 6\", \"2 1 1\", \"2 4 3\",\n",
    "         \"3 2 4\", \"3 4 4\", \"4 1 7\", \"4 3 5\",]\n",
    "         \n",
    "# 간선의 정보를 입력받아 최단 거리 테이블 초기화\n",
    "for edge in edges:\n",
    "    a, b, cost = map(int, edge.split())\n",
    "    min_dist_table[a][b] = cost\n",
    "\n",
    "# 점화식을 기반으로 플로이드 워셜 알고리즘 수행\n",
    "for k in range(1, num_node + 1):\n",
    "    for a in range(1, num_node + 1):\n",
    "        for b in range(1, num_node + 1):\n",
    "            min_dist_table[a][b] = min(min_dist_table[a][b], min_dist_table[a][k] + min_dist_table[k][b])\n",
    "\n",
    "# 결과 출력\n",
    "# for a in range(1, num_node + 1):\n",
    "#     for b in range(1, num_node +1):\n",
    "#         # 노드를 방문할 수 없는 경우, '무한' 값 출력\n",
    "#         if min_dist_table[a][b] == INF:\n",
    "#             print(\"INF\")\n",
    "#         else:\n",
    "#             # 노드를 방문할 수 있을 경우 최단 거리 출력\n",
    "#             print(min_dist_table[a][b], end = ' ')\n",
    "#     # 개행\n",
    "#     print()\n",
    "\n",
    "for a in range(1, num_node + 1):\n",
    "    for b in range(1, num_node +1):\n",
    "        # 노드를 방문할 수 없는 경우, '무한' 값 출력\n",
    "        if min_dist_table[a][b] == INF:\n",
    "            print(\"INF\")\n",
    "        else:\n",
    "            # 노드를 방문할 수 있을 경우 최단 거리 출력\n",
    "            if a != b:\n",
    "                print(f\"{a}번 노드에서 {b}번 노드까지의 최단거리: {min_dist_table[a][b]}\")"
   ]
  }
 ],
 "metadata": {
  "language_info": {
   "name": "python"
  },
  "orig_nbformat": 4
 },
 "nbformat": 4,
 "nbformat_minor": 2
}
